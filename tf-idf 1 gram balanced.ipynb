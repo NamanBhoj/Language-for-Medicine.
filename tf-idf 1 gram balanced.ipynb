{
 "cells": [
  {
   "cell_type": "markdown",
   "metadata": {},
   "source": [
    "# remove /n"
   ]
  },
  {
   "cell_type": "code",
   "execution_count": 1,
   "metadata": {},
   "outputs": [],
   "source": [
    "import numpy as np \n",
    "import pandas as pd\n",
    "import matplotlib.pyplot as plt\n",
    "\n",
    "\n",
    "\n",
    "\n",
    "np.random.seed(2)\n"
   ]
  },
  {
   "cell_type": "code",
   "execution_count": 2,
   "metadata": {},
   "outputs": [],
   "source": [
    "dataset = pd.read_csv(r'C:\\Users\\Naman Bhoj\\Desktop\\Feb-April\\in process 2021\\cicn 1 tripathi\\webmd.csv')"
   ]
  },
  {
   "cell_type": "markdown",
   "metadata": {},
   "source": [
    "# disease classification system which classifies more than 25 classes of disease using patient comment "
   ]
  },
  {
   "cell_type": "markdown",
   "metadata": {},
   "source": [
    "# in the other class add \" change of life\" sign and other classes below joint damage causing pain in loss and function"
   ]
  },
  {
   "cell_type": "code",
   "execution_count": 3,
   "metadata": {},
   "outputs": [
    {
     "data": {
      "text/plain": [
       "Other                                                        49765\n",
       "Pain                                                         25232\n",
       "High Blood Pressure                                          23275\n",
       "Depression                                                   14509\n",
       "Birth Control                                                12253\n",
       "Neuropathic Pain                                              8988\n",
       "Type 2 Diabetes Mellitus                                      7648\n",
       "Chronic Trouble Sleeping                                      7408\n",
       "Attention Deficit Disorder with Hyperactivity                 6801\n",
       "Bipolar Depression                                            5946\n",
       "Migraine Prevention                                           4988\n",
       "Panic Disorder                                                4867\n",
       "Major Depressive Disorder                                     4256\n",
       "Repeated Episodes of Anxiety                                  4138\n",
       "Rheumatoid Arthritis                                          3963\n",
       "Overweight                                                    3888\n",
       "High Cholesterol                                              3593\n",
       "Disorder characterized by Stiff, Tender & Painful Muscles     3472\n",
       "Underactive Thyroid                                           3155\n",
       "Migraine Headache                                             3046\n",
       "Anxious                                                       3016\n",
       "Chronic Pain                                                  2913\n",
       "Cough                                                         2618\n",
       "Asthma                                                        2585\n",
       "\"Change of Life\" Signs                                        2569\n",
       "Acne                                                          2517\n",
       "Joint Damage causing Pain and Loss of Function                2451\n",
       "Name: Condition, dtype: int64"
      ]
     },
     "execution_count": 3,
     "metadata": {},
     "output_type": "execute_result"
    }
   ],
   "source": [
    "dataset['Condition'].value_counts().head(27)"
   ]
  },
  {
   "cell_type": "code",
   "execution_count": 4,
   "metadata": {},
   "outputs": [],
   "source": [
    "#create two list one with all value and one with values you want to change and then iterate and if the value is what you dont want o change thenm move to next value"
   ]
  },
  {
   "cell_type": "code",
   "execution_count": 5,
   "metadata": {},
   "outputs": [],
   "source": [
    "classiwant = [\n",
    "'Pain',                                                         \n",
    "'High Blood Pressure',                                          \n",
    "'Depression',                                                   \n",
    "'Birth Control',                                               \n",
    "'Neuropathic Pain',                                              \n",
    "'Type 2 Diabetes Mellitus',                                     \n",
    "'Chronic Trouble Sleeping',                                      \n",
    "'Attention Deficit Disorder with Hyperactivity',                \n",
    "'Bipolar Depression',                                            \n",
    "'Migraine Prevention',                                           \n",
    "'Panic Disorder',                                                \n",
    "'Major Depressive Disorder',                                    \n",
    "'Repeated Episodes of Anxiety',                                  \n",
    "'Rheumatoid Arthritis',                                          \n",
    "'Overweight',                                                    \n",
    "'High Cholesterol',                                              \n",
    "'Disorder characterized by Stiff, Tender & Painful Muscles',     \n",
    "'Underactive Thyroid',                                           \n",
    "'Migraine Headache',                                             \n",
    "'Anxious',                                                       \n",
    "'Chronic Pain',                                                  \n",
    "'Cough',                                                         \n",
    "'Asthma',                                                                                         \n",
    "'Acne',                                                          \n",
    "'Joint Damage causing Pain and Loss of Function']"
   ]
  },
  {
   "cell_type": "code",
   "execution_count": 6,
   "metadata": {},
   "outputs": [
    {
     "data": {
      "text/plain": [
       "'Stuffy Nose'"
      ]
     },
     "execution_count": 6,
     "metadata": {},
     "output_type": "execute_result"
    }
   ],
   "source": [
    "dataset['Condition'][0] \n"
   ]
  },
  {
   "cell_type": "markdown",
   "metadata": {},
   "source": [
    "# Succesfully change all the other class other than the top 25 to \"Other\""
   ]
  },
  {
   "cell_type": "code",
   "execution_count": 7,
   "metadata": {},
   "outputs": [
    {
     "name": "stderr",
     "output_type": "stream",
     "text": [
      "<ipython-input-7-5268fe1ba8c3>:3: SettingWithCopyWarning: \n",
      "A value is trying to be set on a copy of a slice from a DataFrame\n",
      "\n",
      "See the caveats in the documentation: https://pandas.pydata.org/pandas-docs/stable/user_guide/indexing.html#returning-a-view-versus-a-copy\n",
      "  dataset['Condition'][i] = 'Other'\n"
     ]
    }
   ],
   "source": [
    "for i in range (0,len(dataset)):\n",
    "    if (dataset['Condition'][i] not in classiwant):\n",
    "        dataset['Condition'][i] = 'Other'\n",
    "    "
   ]
  },
  {
   "cell_type": "code",
   "execution_count": 8,
   "metadata": {},
   "outputs": [
    {
     "data": {
      "text/plain": [
       "362806"
      ]
     },
     "execution_count": 8,
     "metadata": {},
     "output_type": "execute_result"
    }
   ],
   "source": [
    "len(dataset)"
   ]
  },
  {
   "cell_type": "code",
   "execution_count": 9,
   "metadata": {},
   "outputs": [
    {
     "data": {
      "text/plain": [
       "Other                                                        195280\n",
       "Pain                                                          25232\n",
       "High Blood Pressure                                           23275\n",
       "Depression                                                    14509\n",
       "Birth Control                                                 12253\n",
       "Neuropathic Pain                                               8988\n",
       "Type 2 Diabetes Mellitus                                       7648\n",
       "Chronic Trouble Sleeping                                       7408\n",
       "Attention Deficit Disorder with Hyperactivity                  6801\n",
       "Bipolar Depression                                             5946\n",
       "Migraine Prevention                                            4988\n",
       "Panic Disorder                                                 4867\n",
       "Major Depressive Disorder                                      4256\n",
       "Repeated Episodes of Anxiety                                   4138\n",
       "Rheumatoid Arthritis                                           3963\n",
       "Overweight                                                     3888\n",
       "High Cholesterol                                               3593\n",
       "Disorder characterized by Stiff, Tender & Painful Muscles      3472\n",
       "Underactive Thyroid                                            3155\n",
       "Migraine Headache                                              3046\n",
       "Anxious                                                        3016\n",
       "Chronic Pain                                                   2913\n",
       "Cough                                                          2618\n",
       "Asthma                                                         2585\n",
       "Acne                                                           2517\n",
       "Joint Damage causing Pain and Loss of Function                 2451\n",
       "Name: Condition, dtype: int64"
      ]
     },
     "execution_count": 9,
     "metadata": {},
     "output_type": "execute_result"
    }
   ],
   "source": [
    "dataset['Condition'].value_counts()"
   ]
  },
  {
   "cell_type": "code",
   "execution_count": 10,
   "metadata": {},
   "outputs": [],
   "source": [
    "index_names = dataset[ dataset['Condition'] == 'Other' ].index"
   ]
  },
  {
   "cell_type": "code",
   "execution_count": 11,
   "metadata": {},
   "outputs": [],
   "source": [
    "dataset.drop(index_names, inplace = True)"
   ]
  },
  {
   "cell_type": "code",
   "execution_count": 12,
   "metadata": {},
   "outputs": [
    {
     "data": {
      "text/plain": [
       "167526"
      ]
     },
     "execution_count": 12,
     "metadata": {},
     "output_type": "execute_result"
    }
   ],
   "source": [
    "len(dataset)"
   ]
  },
  {
   "cell_type": "code",
   "execution_count": 13,
   "metadata": {},
   "outputs": [],
   "source": [
    "dataset = dataset.drop(['Age','Date','Drug','Sides'],axis = 1)"
   ]
  },
  {
   "cell_type": "code",
   "execution_count": 14,
   "metadata": {},
   "outputs": [
    {
     "data": {
      "text/html": [
       "<div>\n",
       "<style scoped>\n",
       "    .dataframe tbody tr th:only-of-type {\n",
       "        vertical-align: middle;\n",
       "    }\n",
       "\n",
       "    .dataframe tbody tr th {\n",
       "        vertical-align: top;\n",
       "    }\n",
       "\n",
       "    .dataframe thead th {\n",
       "        text-align: right;\n",
       "    }\n",
       "</style>\n",
       "<table border=\"1\" class=\"dataframe\">\n",
       "  <thead>\n",
       "    <tr style=\"text-align: right;\">\n",
       "      <th></th>\n",
       "      <th>Condition</th>\n",
       "      <th>DrugId</th>\n",
       "      <th>EaseofUse</th>\n",
       "      <th>Effectiveness</th>\n",
       "      <th>Reviews</th>\n",
       "      <th>Satisfaction</th>\n",
       "      <th>Sex</th>\n",
       "      <th>UsefulCount</th>\n",
       "    </tr>\n",
       "  </thead>\n",
       "  <tbody>\n",
       "    <tr>\n",
       "      <th>6</th>\n",
       "      <td>Birth Control</td>\n",
       "      <td>163180</td>\n",
       "      <td>5</td>\n",
       "      <td>5</td>\n",
       "      <td>Haven't gotten pregnant so it does it's job. I...</td>\n",
       "      <td>2</td>\n",
       "      <td>Female</td>\n",
       "      <td>0</td>\n",
       "    </tr>\n",
       "    <tr>\n",
       "      <th>8</th>\n",
       "      <td>Acne</td>\n",
       "      <td>163180</td>\n",
       "      <td>4</td>\n",
       "      <td>2</td>\n",
       "      <td></td>\n",
       "      <td>2</td>\n",
       "      <td>Female</td>\n",
       "      <td>1</td>\n",
       "    </tr>\n",
       "    <tr>\n",
       "      <th>11</th>\n",
       "      <td>Birth Control</td>\n",
       "      <td>164750</td>\n",
       "      <td>5</td>\n",
       "      <td>5</td>\n",
       "      <td>Taking Lyza made me break out HORRIBLY. I trie...</td>\n",
       "      <td>2</td>\n",
       "      <td></td>\n",
       "      <td>0</td>\n",
       "    </tr>\n",
       "    <tr>\n",
       "      <th>12</th>\n",
       "      <td>Birth Control</td>\n",
       "      <td>164750</td>\n",
       "      <td>2</td>\n",
       "      <td>1</td>\n",
       "      <td>This stuff needs to be removed from the market...</td>\n",
       "      <td>1</td>\n",
       "      <td>Female</td>\n",
       "      <td>0</td>\n",
       "    </tr>\n",
       "    <tr>\n",
       "      <th>13</th>\n",
       "      <td>Birth Control</td>\n",
       "      <td>164750</td>\n",
       "      <td>2</td>\n",
       "      <td>3</td>\n",
       "      <td>I usually have zero to little acne, a few mont...</td>\n",
       "      <td>1</td>\n",
       "      <td>Female</td>\n",
       "      <td>0</td>\n",
       "    </tr>\n",
       "    <tr>\n",
       "      <th>...</th>\n",
       "      <td>...</td>\n",
       "      <td>...</td>\n",
       "      <td>...</td>\n",
       "      <td>...</td>\n",
       "      <td>...</td>\n",
       "      <td>...</td>\n",
       "      <td>...</td>\n",
       "      <td>...</td>\n",
       "    </tr>\n",
       "    <tr>\n",
       "      <th>361701</th>\n",
       "      <td>Birth Control</td>\n",
       "      <td>163265</td>\n",
       "      <td>4</td>\n",
       "      <td>4</td>\n",
       "      <td>I haven't had many problems with this drug and...</td>\n",
       "      <td>3</td>\n",
       "      <td>Female</td>\n",
       "      <td>0</td>\n",
       "    </tr>\n",
       "    <tr>\n",
       "      <th>361703</th>\n",
       "      <td>Birth Control</td>\n",
       "      <td>163265</td>\n",
       "      <td>3</td>\n",
       "      <td>4</td>\n",
       "      <td>As per the previous review my hair has been sh...</td>\n",
       "      <td>1</td>\n",
       "      <td>Female</td>\n",
       "      <td>0</td>\n",
       "    </tr>\n",
       "    <tr>\n",
       "      <th>361704</th>\n",
       "      <td>Birth Control</td>\n",
       "      <td>163265</td>\n",
       "      <td>1</td>\n",
       "      <td>1</td>\n",
       "      <td>My hair started falling off. Even after stoppi...</td>\n",
       "      <td>1</td>\n",
       "      <td>Female</td>\n",
       "      <td>0</td>\n",
       "    </tr>\n",
       "    <tr>\n",
       "      <th>361705</th>\n",
       "      <td>Birth Control</td>\n",
       "      <td>163265</td>\n",
       "      <td>1</td>\n",
       "      <td>3</td>\n",
       "      <td>I personally had terrible side effects using t...</td>\n",
       "      <td>2</td>\n",
       "      <td>Female</td>\n",
       "      <td>3</td>\n",
       "    </tr>\n",
       "    <tr>\n",
       "      <th>361707</th>\n",
       "      <td>Birth Control</td>\n",
       "      <td>163265</td>\n",
       "      <td>4</td>\n",
       "      <td>2</td>\n",
       "      <td>This medication did not work well for me. I ha...</td>\n",
       "      <td>1</td>\n",
       "      <td>Female</td>\n",
       "      <td>1</td>\n",
       "    </tr>\n",
       "  </tbody>\n",
       "</table>\n",
       "<p>167526 rows × 8 columns</p>\n",
       "</div>"
      ],
      "text/plain": [
       "            Condition  DrugId  EaseofUse  Effectiveness  \\\n",
       "6       Birth Control  163180          5              5   \n",
       "8                Acne  163180          4              2   \n",
       "11      Birth Control  164750          5              5   \n",
       "12      Birth Control  164750          2              1   \n",
       "13      Birth Control  164750          2              3   \n",
       "...               ...     ...        ...            ...   \n",
       "361701  Birth Control  163265          4              4   \n",
       "361703  Birth Control  163265          3              4   \n",
       "361704  Birth Control  163265          1              1   \n",
       "361705  Birth Control  163265          1              3   \n",
       "361707  Birth Control  163265          4              2   \n",
       "\n",
       "                                                  Reviews  Satisfaction  \\\n",
       "6       Haven't gotten pregnant so it does it's job. I...             2   \n",
       "8                                                                     2   \n",
       "11      Taking Lyza made me break out HORRIBLY. I trie...             2   \n",
       "12      This stuff needs to be removed from the market...             1   \n",
       "13      I usually have zero to little acne, a few mont...             1   \n",
       "...                                                   ...           ...   \n",
       "361701  I haven't had many problems with this drug and...             3   \n",
       "361703  As per the previous review my hair has been sh...             1   \n",
       "361704  My hair started falling off. Even after stoppi...             1   \n",
       "361705  I personally had terrible side effects using t...             2   \n",
       "361707  This medication did not work well for me. I ha...             1   \n",
       "\n",
       "           Sex  UsefulCount  \n",
       "6       Female            0  \n",
       "8       Female            1  \n",
       "11                        0  \n",
       "12      Female            0  \n",
       "13      Female            0  \n",
       "...        ...          ...  \n",
       "361701  Female            0  \n",
       "361703  Female            0  \n",
       "361704  Female            0  \n",
       "361705  Female            3  \n",
       "361707  Female            1  \n",
       "\n",
       "[167526 rows x 8 columns]"
      ]
     },
     "execution_count": 14,
     "metadata": {},
     "output_type": "execute_result"
    }
   ],
   "source": [
    "dataset"
   ]
  },
  {
   "cell_type": "code",
   "execution_count": 15,
   "metadata": {},
   "outputs": [
    {
     "data": {
      "text/plain": [
       "Condition         0\n",
       "DrugId            0\n",
       "EaseofUse         0\n",
       "Effectiveness     0\n",
       "Reviews          17\n",
       "Satisfaction      0\n",
       "Sex               0\n",
       "UsefulCount       0\n",
       "dtype: int64"
      ]
     },
     "execution_count": 15,
     "metadata": {},
     "output_type": "execute_result"
    }
   ],
   "source": [
    "dataset.isnull().sum()"
   ]
  },
  {
   "cell_type": "code",
   "execution_count": 16,
   "metadata": {},
   "outputs": [],
   "source": [
    " dataset = dataset.dropna()"
   ]
  },
  {
   "cell_type": "code",
   "execution_count": 17,
   "metadata": {},
   "outputs": [
    {
     "data": {
      "text/plain": [
       "Condition        0\n",
       "DrugId           0\n",
       "EaseofUse        0\n",
       "Effectiveness    0\n",
       "Reviews          0\n",
       "Satisfaction     0\n",
       "Sex              0\n",
       "UsefulCount      0\n",
       "dtype: int64"
      ]
     },
     "execution_count": 17,
     "metadata": {},
     "output_type": "execute_result"
    }
   ],
   "source": [
    "dataset.isnull().sum()"
   ]
  },
  {
   "cell_type": "code",
   "execution_count": 18,
   "metadata": {},
   "outputs": [],
   "source": [
    "x_data = dataset.drop(['Condition'],axis = 1)\n",
    "y_data = dataset['Condition']"
   ]
  },
  {
   "cell_type": "code",
   "execution_count": 19,
   "metadata": {},
   "outputs": [
    {
     "data": {
      "text/plain": [
       "6         Birth Control\n",
       "8                  Acne\n",
       "11        Birth Control\n",
       "12        Birth Control\n",
       "13        Birth Control\n",
       "              ...      \n",
       "361701    Birth Control\n",
       "361703    Birth Control\n",
       "361704    Birth Control\n",
       "361705    Birth Control\n",
       "361707    Birth Control\n",
       "Name: Condition, Length: 167509, dtype: object"
      ]
     },
     "execution_count": 19,
     "metadata": {},
     "output_type": "execute_result"
    }
   ],
   "source": [
    "y_data"
   ]
  },
  {
   "cell_type": "code",
   "execution_count": 20,
   "metadata": {},
   "outputs": [
    {
     "data": {
      "text/plain": [
       "DrugId           0\n",
       "EaseofUse        0\n",
       "Effectiveness    0\n",
       "Reviews          0\n",
       "Satisfaction     0\n",
       "Sex              0\n",
       "UsefulCount      0\n",
       "dtype: int64"
      ]
     },
     "execution_count": 20,
     "metadata": {},
     "output_type": "execute_result"
    }
   ],
   "source": [
    "\n",
    "x_data.isnull().sum()"
   ]
  },
  {
   "cell_type": "markdown",
   "metadata": {},
   "source": [
    "# remove null values"
   ]
  },
  {
   "cell_type": "code",
   "execution_count": 21,
   "metadata": {},
   "outputs": [],
   "source": [
    "# x_data = x_data.dropna()"
   ]
  },
  {
   "cell_type": "code",
   "execution_count": 22,
   "metadata": {},
   "outputs": [],
   "source": [
    "# x_data.isnull().sum()"
   ]
  },
  {
   "cell_type": "code",
   "execution_count": 23,
   "metadata": {},
   "outputs": [
    {
     "name": "stdout",
     "output_type": "stream",
     "text": [
      "Female    111814\n",
      "Male       44406\n",
      "           11289\n",
      "Name: Sex, dtype: int64\n"
     ]
    }
   ],
   "source": [
    "print(x_data[\"Sex\"].value_counts())\n"
   ]
  },
  {
   "cell_type": "markdown",
   "metadata": {},
   "source": [
    "# sex has missing value, we wil drop sex for now and in future scope add that you find relationship between sex and conditions"
   ]
  },
  {
   "cell_type": "code",
   "execution_count": 24,
   "metadata": {},
   "outputs": [],
   "source": [
    "x_data.drop(['Sex'],axis =1 , inplace = True)"
   ]
  },
  {
   "cell_type": "code",
   "execution_count": 25,
   "metadata": {},
   "outputs": [],
   "source": [
    "def relabel(x):\n",
    "    return 0 if x < 3 else 1 if x == 3 else 2\n",
    "\n",
    "x_data[\"Satisfaction\"] = x_data[\"Satisfaction\"].apply(relabel)"
   ]
  },
  {
   "cell_type": "markdown",
   "metadata": {},
   "source": [
    "# 1 and 2 means negative 3 means neutral  and 4,5,6 means positive"
   ]
  },
  {
   "cell_type": "code",
   "execution_count": 26,
   "metadata": {},
   "outputs": [
    {
     "name": "stdout",
     "output_type": "stream",
     "text": [
      "<class 'pandas.core.frame.DataFrame'>\n",
      "Int64Index: 167509 entries, 6 to 361707\n",
      "Data columns (total 6 columns):\n",
      " #   Column         Non-Null Count   Dtype \n",
      "---  ------         --------------   ----- \n",
      " 0   DrugId         167509 non-null  int64 \n",
      " 1   EaseofUse      167509 non-null  int64 \n",
      " 2   Effectiveness  167509 non-null  int64 \n",
      " 3   Reviews        167509 non-null  object\n",
      " 4   Satisfaction   167509 non-null  int64 \n",
      " 5   UsefulCount    167509 non-null  int64 \n",
      "dtypes: int64(5), object(1)\n",
      "memory usage: 8.9+ MB\n"
     ]
    }
   ],
   "source": [
    "x_data.info()"
   ]
  },
  {
   "cell_type": "code",
   "execution_count": 27,
   "metadata": {},
   "outputs": [
    {
     "data": {
      "text/plain": [
       "5    94119\n",
       "4    35878\n",
       "3    18053\n",
       "1    12294\n",
       "2     7163\n",
       "6        2\n",
       "Name: EaseofUse, dtype: int64"
      ]
     },
     "execution_count": 27,
     "metadata": {},
     "output_type": "execute_result"
    }
   ],
   "source": [
    "x_data['EaseofUse'].value_counts()"
   ]
  },
  {
   "cell_type": "markdown",
   "metadata": {},
   "source": [
    "# doing the same for ease of use where 1,2 are 0 and 3 is neutral and greater than three is positive"
   ]
  },
  {
   "cell_type": "code",
   "execution_count": 28,
   "metadata": {},
   "outputs": [],
   "source": [
    "def relabel(x):\n",
    "    return 0 if x < 3 else 1 if x == 3 else 2\n",
    "\n",
    "x_data[\"EaseofUse\"] = x_data[\"EaseofUse\"].apply(relabel)"
   ]
  },
  {
   "cell_type": "markdown",
   "metadata": {},
   "source": [
    "# now we will preprocess text from here"
   ]
  },
  {
   "cell_type": "code",
   "execution_count": 29,
   "metadata": {},
   "outputs": [
    {
     "data": {
      "text/html": [
       "<div>\n",
       "<style scoped>\n",
       "    .dataframe tbody tr th:only-of-type {\n",
       "        vertical-align: middle;\n",
       "    }\n",
       "\n",
       "    .dataframe tbody tr th {\n",
       "        vertical-align: top;\n",
       "    }\n",
       "\n",
       "    .dataframe thead th {\n",
       "        text-align: right;\n",
       "    }\n",
       "</style>\n",
       "<table border=\"1\" class=\"dataframe\">\n",
       "  <thead>\n",
       "    <tr style=\"text-align: right;\">\n",
       "      <th></th>\n",
       "      <th>DrugId</th>\n",
       "      <th>EaseofUse</th>\n",
       "      <th>Effectiveness</th>\n",
       "      <th>Reviews</th>\n",
       "      <th>Satisfaction</th>\n",
       "      <th>UsefulCount</th>\n",
       "    </tr>\n",
       "  </thead>\n",
       "  <tbody>\n",
       "    <tr>\n",
       "      <th>6</th>\n",
       "      <td>163180</td>\n",
       "      <td>2</td>\n",
       "      <td>5</td>\n",
       "      <td>Haven't gotten pregnant so it does it's job. I...</td>\n",
       "      <td>0</td>\n",
       "      <td>0</td>\n",
       "    </tr>\n",
       "    <tr>\n",
       "      <th>8</th>\n",
       "      <td>163180</td>\n",
       "      <td>2</td>\n",
       "      <td>2</td>\n",
       "      <td></td>\n",
       "      <td>0</td>\n",
       "      <td>1</td>\n",
       "    </tr>\n",
       "    <tr>\n",
       "      <th>11</th>\n",
       "      <td>164750</td>\n",
       "      <td>2</td>\n",
       "      <td>5</td>\n",
       "      <td>Taking Lyza made me break out HORRIBLY. I trie...</td>\n",
       "      <td>0</td>\n",
       "      <td>0</td>\n",
       "    </tr>\n",
       "    <tr>\n",
       "      <th>12</th>\n",
       "      <td>164750</td>\n",
       "      <td>0</td>\n",
       "      <td>1</td>\n",
       "      <td>This stuff needs to be removed from the market...</td>\n",
       "      <td>0</td>\n",
       "      <td>0</td>\n",
       "    </tr>\n",
       "    <tr>\n",
       "      <th>13</th>\n",
       "      <td>164750</td>\n",
       "      <td>0</td>\n",
       "      <td>3</td>\n",
       "      <td>I usually have zero to little acne, a few mont...</td>\n",
       "      <td>0</td>\n",
       "      <td>0</td>\n",
       "    </tr>\n",
       "    <tr>\n",
       "      <th>...</th>\n",
       "      <td>...</td>\n",
       "      <td>...</td>\n",
       "      <td>...</td>\n",
       "      <td>...</td>\n",
       "      <td>...</td>\n",
       "      <td>...</td>\n",
       "    </tr>\n",
       "    <tr>\n",
       "      <th>361701</th>\n",
       "      <td>163265</td>\n",
       "      <td>2</td>\n",
       "      <td>4</td>\n",
       "      <td>I haven't had many problems with this drug and...</td>\n",
       "      <td>1</td>\n",
       "      <td>0</td>\n",
       "    </tr>\n",
       "    <tr>\n",
       "      <th>361703</th>\n",
       "      <td>163265</td>\n",
       "      <td>1</td>\n",
       "      <td>4</td>\n",
       "      <td>As per the previous review my hair has been sh...</td>\n",
       "      <td>0</td>\n",
       "      <td>0</td>\n",
       "    </tr>\n",
       "    <tr>\n",
       "      <th>361704</th>\n",
       "      <td>163265</td>\n",
       "      <td>0</td>\n",
       "      <td>1</td>\n",
       "      <td>My hair started falling off. Even after stoppi...</td>\n",
       "      <td>0</td>\n",
       "      <td>0</td>\n",
       "    </tr>\n",
       "    <tr>\n",
       "      <th>361705</th>\n",
       "      <td>163265</td>\n",
       "      <td>0</td>\n",
       "      <td>3</td>\n",
       "      <td>I personally had terrible side effects using t...</td>\n",
       "      <td>0</td>\n",
       "      <td>3</td>\n",
       "    </tr>\n",
       "    <tr>\n",
       "      <th>361707</th>\n",
       "      <td>163265</td>\n",
       "      <td>2</td>\n",
       "      <td>2</td>\n",
       "      <td>This medication did not work well for me. I ha...</td>\n",
       "      <td>0</td>\n",
       "      <td>1</td>\n",
       "    </tr>\n",
       "  </tbody>\n",
       "</table>\n",
       "<p>167509 rows × 6 columns</p>\n",
       "</div>"
      ],
      "text/plain": [
       "        DrugId  EaseofUse  Effectiveness  \\\n",
       "6       163180          2              5   \n",
       "8       163180          2              2   \n",
       "11      164750          2              5   \n",
       "12      164750          0              1   \n",
       "13      164750          0              3   \n",
       "...        ...        ...            ...   \n",
       "361701  163265          2              4   \n",
       "361703  163265          1              4   \n",
       "361704  163265          0              1   \n",
       "361705  163265          0              3   \n",
       "361707  163265          2              2   \n",
       "\n",
       "                                                  Reviews  Satisfaction  \\\n",
       "6       Haven't gotten pregnant so it does it's job. I...             0   \n",
       "8                                                                     0   \n",
       "11      Taking Lyza made me break out HORRIBLY. I trie...             0   \n",
       "12      This stuff needs to be removed from the market...             0   \n",
       "13      I usually have zero to little acne, a few mont...             0   \n",
       "...                                                   ...           ...   \n",
       "361701  I haven't had many problems with this drug and...             1   \n",
       "361703  As per the previous review my hair has been sh...             0   \n",
       "361704  My hair started falling off. Even after stoppi...             0   \n",
       "361705  I personally had terrible side effects using t...             0   \n",
       "361707  This medication did not work well for me. I ha...             0   \n",
       "\n",
       "        UsefulCount  \n",
       "6                 0  \n",
       "8                 1  \n",
       "11                0  \n",
       "12                0  \n",
       "13                0  \n",
       "...             ...  \n",
       "361701            0  \n",
       "361703            0  \n",
       "361704            0  \n",
       "361705            3  \n",
       "361707            1  \n",
       "\n",
       "[167509 rows x 6 columns]"
      ]
     },
     "execution_count": 29,
     "metadata": {},
     "output_type": "execute_result"
    }
   ],
   "source": [
    "x_data"
   ]
  },
  {
   "cell_type": "code",
   "execution_count": 30,
   "metadata": {},
   "outputs": [],
   "source": [
    "x_data_text = x_data[['Reviews']]"
   ]
  },
  {
   "cell_type": "code",
   "execution_count": 31,
   "metadata": {},
   "outputs": [
    {
     "data": {
      "text/html": [
       "<div>\n",
       "<style scoped>\n",
       "    .dataframe tbody tr th:only-of-type {\n",
       "        vertical-align: middle;\n",
       "    }\n",
       "\n",
       "    .dataframe tbody tr th {\n",
       "        vertical-align: top;\n",
       "    }\n",
       "\n",
       "    .dataframe thead th {\n",
       "        text-align: right;\n",
       "    }\n",
       "</style>\n",
       "<table border=\"1\" class=\"dataframe\">\n",
       "  <thead>\n",
       "    <tr style=\"text-align: right;\">\n",
       "      <th></th>\n",
       "      <th>Reviews</th>\n",
       "    </tr>\n",
       "  </thead>\n",
       "  <tbody>\n",
       "    <tr>\n",
       "      <th>6</th>\n",
       "      <td>Haven't gotten pregnant so it does it's job. I...</td>\n",
       "    </tr>\n",
       "    <tr>\n",
       "      <th>8</th>\n",
       "      <td></td>\n",
       "    </tr>\n",
       "    <tr>\n",
       "      <th>11</th>\n",
       "      <td>Taking Lyza made me break out HORRIBLY. I trie...</td>\n",
       "    </tr>\n",
       "    <tr>\n",
       "      <th>12</th>\n",
       "      <td>This stuff needs to be removed from the market...</td>\n",
       "    </tr>\n",
       "    <tr>\n",
       "      <th>13</th>\n",
       "      <td>I usually have zero to little acne, a few mont...</td>\n",
       "    </tr>\n",
       "    <tr>\n",
       "      <th>...</th>\n",
       "      <td>...</td>\n",
       "    </tr>\n",
       "    <tr>\n",
       "      <th>361701</th>\n",
       "      <td>I haven't had many problems with this drug and...</td>\n",
       "    </tr>\n",
       "    <tr>\n",
       "      <th>361703</th>\n",
       "      <td>As per the previous review my hair has been sh...</td>\n",
       "    </tr>\n",
       "    <tr>\n",
       "      <th>361704</th>\n",
       "      <td>My hair started falling off. Even after stoppi...</td>\n",
       "    </tr>\n",
       "    <tr>\n",
       "      <th>361705</th>\n",
       "      <td>I personally had terrible side effects using t...</td>\n",
       "    </tr>\n",
       "    <tr>\n",
       "      <th>361707</th>\n",
       "      <td>This medication did not work well for me. I ha...</td>\n",
       "    </tr>\n",
       "  </tbody>\n",
       "</table>\n",
       "<p>167509 rows × 1 columns</p>\n",
       "</div>"
      ],
      "text/plain": [
       "                                                  Reviews\n",
       "6       Haven't gotten pregnant so it does it's job. I...\n",
       "8                                                        \n",
       "11      Taking Lyza made me break out HORRIBLY. I trie...\n",
       "12      This stuff needs to be removed from the market...\n",
       "13      I usually have zero to little acne, a few mont...\n",
       "...                                                   ...\n",
       "361701  I haven't had many problems with this drug and...\n",
       "361703  As per the previous review my hair has been sh...\n",
       "361704  My hair started falling off. Even after stoppi...\n",
       "361705  I personally had terrible side effects using t...\n",
       "361707  This medication did not work well for me. I ha...\n",
       "\n",
       "[167509 rows x 1 columns]"
      ]
     },
     "execution_count": 31,
     "metadata": {},
     "output_type": "execute_result"
    }
   ],
   "source": [
    "x_data_text"
   ]
  },
  {
   "cell_type": "code",
   "execution_count": 32,
   "metadata": {},
   "outputs": [
    {
     "name": "stderr",
     "output_type": "stream",
     "text": [
      "<ipython-input-32-f2a934661742>:1: SettingWithCopyWarning: \n",
      "A value is trying to be set on a copy of a slice from a DataFrame.\n",
      "Try using .loc[row_indexer,col_indexer] = value instead\n",
      "\n",
      "See the caveats in the documentation: https://pandas.pydata.org/pandas-docs/stable/user_guide/indexing.html#returning-a-view-versus-a-copy\n",
      "  x_data_text[\"Reviews\"] = x_data_text[\"Reviews\"].str.lower()\n"
     ]
    },
    {
     "data": {
      "text/html": [
       "<div>\n",
       "<style scoped>\n",
       "    .dataframe tbody tr th:only-of-type {\n",
       "        vertical-align: middle;\n",
       "    }\n",
       "\n",
       "    .dataframe tbody tr th {\n",
       "        vertical-align: top;\n",
       "    }\n",
       "\n",
       "    .dataframe thead th {\n",
       "        text-align: right;\n",
       "    }\n",
       "</style>\n",
       "<table border=\"1\" class=\"dataframe\">\n",
       "  <thead>\n",
       "    <tr style=\"text-align: right;\">\n",
       "      <th></th>\n",
       "      <th>Reviews</th>\n",
       "    </tr>\n",
       "  </thead>\n",
       "  <tbody>\n",
       "    <tr>\n",
       "      <th>6</th>\n",
       "      <td>haven't gotten pregnant so it does it's job. i...</td>\n",
       "    </tr>\n",
       "    <tr>\n",
       "      <th>8</th>\n",
       "      <td></td>\n",
       "    </tr>\n",
       "    <tr>\n",
       "      <th>11</th>\n",
       "      <td>taking lyza made me break out horribly. i trie...</td>\n",
       "    </tr>\n",
       "    <tr>\n",
       "      <th>12</th>\n",
       "      <td>this stuff needs to be removed from the market...</td>\n",
       "    </tr>\n",
       "    <tr>\n",
       "      <th>13</th>\n",
       "      <td>i usually have zero to little acne, a few mont...</td>\n",
       "    </tr>\n",
       "  </tbody>\n",
       "</table>\n",
       "</div>"
      ],
      "text/plain": [
       "                                              Reviews\n",
       "6   haven't gotten pregnant so it does it's job. i...\n",
       "8                                                    \n",
       "11  taking lyza made me break out horribly. i trie...\n",
       "12  this stuff needs to be removed from the market...\n",
       "13  i usually have zero to little acne, a few mont..."
      ]
     },
     "execution_count": 32,
     "metadata": {},
     "output_type": "execute_result"
    }
   ],
   "source": [
    "x_data_text[\"Reviews\"] = x_data_text[\"Reviews\"].str.lower()\n",
    "x_data_text.head()"
   ]
  },
  {
   "cell_type": "markdown",
   "metadata": {},
   "source": [
    "# see code below you also need to remove \\n"
   ]
  },
  {
   "cell_type": "code",
   "execution_count": 33,
   "metadata": {},
   "outputs": [
    {
     "data": {
      "text/plain": [
       "'taking lyza made me break out horribly. i tried it out for 3 months and then it was so bad that i stopped taking it. itâ??s inceedible how much it damaged my skin in only 3 months. now itâ??s been 3 months since i stopped taking it and my skin is way better but i still have acne and i have really bad scars. i definitely would not take this again. besides the acne, while taking lyza i started to not get me periods anymore starting about the 3rd month. everything else was fine. it didnâ??t give me mood swings or anything like that. '"
      ]
     },
     "execution_count": 33,
     "metadata": {},
     "output_type": "execute_result"
    }
   ],
   "source": [
    "x_data_text['Reviews'].iloc[2]"
   ]
  },
  {
   "cell_type": "code",
   "execution_count": 34,
   "metadata": {},
   "outputs": [
    {
     "data": {
      "text/plain": [
       "\"my ob/gyn placed me on this pill because i was at risk for a stroke while being on estrogen birth controls. i have been taking this medication for 2 months with no side effects: migraines have stopped, no acne, no mood swings, no weight gain, no spotting, and sex drive is still intact. the first month of taking this pill my period was extremely light (almost nonexistant) and lasted only two days. this month i didn't have a period and took a pregnancy test, it was negative. i read reviews that this is normal while taking this pill... not sure if i like this factor? all in all, i'm pretty pleased with this birth control. please note that this is a progestin only pill and it is important to take at it at the same time daily.\""
      ]
     },
     "execution_count": 34,
     "metadata": {},
     "output_type": "execute_result"
    }
   ],
   "source": [
    "x_data_text['Reviews'].iloc[12]"
   ]
  },
  {
   "cell_type": "markdown",
   "metadata": {},
   "source": [
    " # removing \\n"
   ]
  },
  {
   "cell_type": "code",
   "execution_count": 35,
   "metadata": {},
   "outputs": [],
   "source": [
    "# import re\n",
    "# for i in range(0, len(x_data_text)):\n",
    "#     stringstore = x_data_text['Reviews'].iloc[i] \n",
    "#     stringstore = re.sub('(?:\\s)\\n[^, ]*', '', stringstore)\n",
    "    \n",
    "#     x_data['Reviews'].iloc[i] = stringstore"
   ]
  },
  {
   "cell_type": "code",
   "execution_count": 36,
   "metadata": {},
   "outputs": [],
   "source": [
    "# x_data_text['Reviews'].iloc[12]"
   ]
  },
  {
   "cell_type": "markdown",
   "metadata": {},
   "source": [
    "# remove punctuations"
   ]
  },
  {
   "cell_type": "code",
   "execution_count": 37,
   "metadata": {},
   "outputs": [
    {
     "name": "stderr",
     "output_type": "stream",
     "text": [
      "<ipython-input-37-49a1e36c3379>:7: SettingWithCopyWarning: \n",
      "A value is trying to be set on a copy of a slice from a DataFrame.\n",
      "Try using .loc[row_indexer,col_indexer] = value instead\n",
      "\n",
      "See the caveats in the documentation: https://pandas.pydata.org/pandas-docs/stable/user_guide/indexing.html#returning-a-view-versus-a-copy\n",
      "  x_data_text[\"Reviews\"] = x_data_text[\"Reviews\"].apply(lambda text: remove_punctuation(text))\n"
     ]
    },
    {
     "data": {
      "text/html": [
       "<div>\n",
       "<style scoped>\n",
       "    .dataframe tbody tr th:only-of-type {\n",
       "        vertical-align: middle;\n",
       "    }\n",
       "\n",
       "    .dataframe tbody tr th {\n",
       "        vertical-align: top;\n",
       "    }\n",
       "\n",
       "    .dataframe thead th {\n",
       "        text-align: right;\n",
       "    }\n",
       "</style>\n",
       "<table border=\"1\" class=\"dataframe\">\n",
       "  <thead>\n",
       "    <tr style=\"text-align: right;\">\n",
       "      <th></th>\n",
       "      <th>Reviews</th>\n",
       "    </tr>\n",
       "  </thead>\n",
       "  <tbody>\n",
       "    <tr>\n",
       "      <th>6</th>\n",
       "      <td>havent gotten pregnant so it does its job i wa...</td>\n",
       "    </tr>\n",
       "    <tr>\n",
       "      <th>8</th>\n",
       "      <td></td>\n",
       "    </tr>\n",
       "    <tr>\n",
       "      <th>11</th>\n",
       "      <td>taking lyza made me break out horribly i tried...</td>\n",
       "    </tr>\n",
       "    <tr>\n",
       "      <th>12</th>\n",
       "      <td>this stuff needs to be removed from the market...</td>\n",
       "    </tr>\n",
       "    <tr>\n",
       "      <th>13</th>\n",
       "      <td>i usually have zero to little acne a few month...</td>\n",
       "    </tr>\n",
       "  </tbody>\n",
       "</table>\n",
       "</div>"
      ],
      "text/plain": [
       "                                              Reviews\n",
       "6   havent gotten pregnant so it does its job i wa...\n",
       "8                                                    \n",
       "11  taking lyza made me break out horribly i tried...\n",
       "12  this stuff needs to be removed from the market...\n",
       "13  i usually have zero to little acne a few month..."
      ]
     },
     "execution_count": 37,
     "metadata": {},
     "output_type": "execute_result"
    }
   ],
   "source": [
    "import string\n",
    "PUNCT_TO_REMOVE = string.punctuation\n",
    "def remove_punctuation(text):\n",
    "    \"\"\"custom function to remove the punctuation\"\"\"\n",
    "    return text.translate(str.maketrans('', '', PUNCT_TO_REMOVE))\n",
    "\n",
    "x_data_text[\"Reviews\"] = x_data_text[\"Reviews\"].apply(lambda text: remove_punctuation(text))\n",
    "x_data_text.head()"
   ]
  },
  {
   "cell_type": "markdown",
   "metadata": {},
   "source": [
    "# removing stopwords"
   ]
  },
  {
   "cell_type": "code",
   "execution_count": 38,
   "metadata": {},
   "outputs": [
    {
     "name": "stderr",
     "output_type": "stream",
     "text": [
      "[nltk_data] Downloading package stopwords to C:\\Users\\Naman\n",
      "[nltk_data]     Bhoj\\AppData\\Roaming\\nltk_data...\n",
      "[nltk_data]   Package stopwords is already up-to-date!\n",
      "<ipython-input-38-a60092f9d85e>:9: SettingWithCopyWarning: \n",
      "A value is trying to be set on a copy of a slice from a DataFrame.\n",
      "Try using .loc[row_indexer,col_indexer] = value instead\n",
      "\n",
      "See the caveats in the documentation: https://pandas.pydata.org/pandas-docs/stable/user_guide/indexing.html#returning-a-view-versus-a-copy\n",
      "  x_data_text[\"Reviews\"] = x_data_text[\"Reviews\"].apply(lambda text: remove_stopwords(text))\n"
     ]
    }
   ],
   "source": [
    "import nltk\n",
    "nltk.download('stopwords')\n",
    "from nltk.corpus import stopwords\n",
    "STOPWORDS = set(stopwords.words('english'))\n",
    "def remove_stopwords(text):\n",
    "    \"\"\"custom function to remove the stopwords\"\"\"\n",
    "    return \" \".join([word for word in str(text).split() if word not in STOPWORDS])\n",
    "\n",
    "x_data_text[\"Reviews\"] = x_data_text[\"Reviews\"].apply(lambda text: remove_stopwords(text))"
   ]
  },
  {
   "cell_type": "markdown",
   "metadata": {},
   "source": [
    "# lemmatization"
   ]
  },
  {
   "cell_type": "code",
   "execution_count": 39,
   "metadata": {},
   "outputs": [
    {
     "name": "stderr",
     "output_type": "stream",
     "text": [
      "[nltk_data] Downloading package wordnet to C:\\Users\\Naman\n",
      "[nltk_data]     Bhoj\\AppData\\Roaming\\nltk_data...\n",
      "[nltk_data]   Package wordnet is already up-to-date!\n",
      "<ipython-input-39-d3191f2d271a>:7: SettingWithCopyWarning: \n",
      "A value is trying to be set on a copy of a slice from a DataFrame.\n",
      "Try using .loc[row_indexer,col_indexer] = value instead\n",
      "\n",
      "See the caveats in the documentation: https://pandas.pydata.org/pandas-docs/stable/user_guide/indexing.html#returning-a-view-versus-a-copy\n",
      "  x_data_text[\"Reviews\"] = x_data_text[\"Reviews\"].apply(lambda text: lemmatize_words(text))\n"
     ]
    }
   ],
   "source": [
    "from nltk.stem import WordNetLemmatizer\n",
    "nltk.download('wordnet')\n",
    "lemmatizer = WordNetLemmatizer()\n",
    "def lemmatize_words(text):\n",
    "    return \" \".join([lemmatizer.lemmatize(word) for word in text.split()])\n",
    "\n",
    "x_data_text[\"Reviews\"] = x_data_text[\"Reviews\"].apply(lambda text: lemmatize_words(text))"
   ]
  },
  {
   "cell_type": "code",
   "execution_count": 40,
   "metadata": {},
   "outputs": [
    {
     "data": {
      "text/html": [
       "<div>\n",
       "<style scoped>\n",
       "    .dataframe tbody tr th:only-of-type {\n",
       "        vertical-align: middle;\n",
       "    }\n",
       "\n",
       "    .dataframe tbody tr th {\n",
       "        vertical-align: top;\n",
       "    }\n",
       "\n",
       "    .dataframe thead th {\n",
       "        text-align: right;\n",
       "    }\n",
       "</style>\n",
       "<table border=\"1\" class=\"dataframe\">\n",
       "  <thead>\n",
       "    <tr style=\"text-align: right;\">\n",
       "      <th></th>\n",
       "      <th>Reviews</th>\n",
       "    </tr>\n",
       "  </thead>\n",
       "  <tbody>\n",
       "    <tr>\n",
       "      <th>6</th>\n",
       "      <td>havent gotten pregnant job switched brand anot...</td>\n",
       "    </tr>\n",
       "    <tr>\n",
       "      <th>8</th>\n",
       "      <td></td>\n",
       "    </tr>\n",
       "    <tr>\n",
       "      <th>11</th>\n",
       "      <td>taking lyza made break horribly tried 3 month ...</td>\n",
       "    </tr>\n",
       "    <tr>\n",
       "      <th>12</th>\n",
       "      <td>stuff need removed market it’s harmful age fas...</td>\n",
       "    </tr>\n",
       "    <tr>\n",
       "      <th>13</th>\n",
       "      <td>usually zero little acne month taking medicati...</td>\n",
       "    </tr>\n",
       "    <tr>\n",
       "      <th>...</th>\n",
       "      <td>...</td>\n",
       "    </tr>\n",
       "    <tr>\n",
       "      <th>361701</th>\n",
       "      <td>havent many problem drug period last 4 day nic...</td>\n",
       "    </tr>\n",
       "    <tr>\n",
       "      <th>361703</th>\n",
       "      <td>per previous review hair shedding ridiculously...</td>\n",
       "    </tr>\n",
       "    <tr>\n",
       "      <th>361704</th>\n",
       "      <td>hair started falling even stopping using month...</td>\n",
       "    </tr>\n",
       "    <tr>\n",
       "      <th>361705</th>\n",
       "      <td>personally terrible side effect using product ...</td>\n",
       "    </tr>\n",
       "    <tr>\n",
       "      <th>361707</th>\n",
       "      <td>medication work well ton break bleeding even 9...</td>\n",
       "    </tr>\n",
       "  </tbody>\n",
       "</table>\n",
       "<p>167509 rows × 1 columns</p>\n",
       "</div>"
      ],
      "text/plain": [
       "                                                  Reviews\n",
       "6       havent gotten pregnant job switched brand anot...\n",
       "8                                                        \n",
       "11      taking lyza made break horribly tried 3 month ...\n",
       "12      stuff need removed market it’s harmful age fas...\n",
       "13      usually zero little acne month taking medicati...\n",
       "...                                                   ...\n",
       "361701  havent many problem drug period last 4 day nic...\n",
       "361703  per previous review hair shedding ridiculously...\n",
       "361704  hair started falling even stopping using month...\n",
       "361705  personally terrible side effect using product ...\n",
       "361707  medication work well ton break bleeding even 9...\n",
       "\n",
       "[167509 rows x 1 columns]"
      ]
     },
     "execution_count": 40,
     "metadata": {},
     "output_type": "execute_result"
    }
   ],
   "source": [
    "x_data_text"
   ]
  },
  {
   "cell_type": "code",
   "execution_count": 41,
   "metadata": {},
   "outputs": [
    {
     "data": {
      "text/plain": [
       "'obgyn placed pill risk stroke estrogen birth control taking medication 2 month side effect migraine stopped acne mood swing weight gain spotting sex drive still intact first month taking pill period extremely light almost nonexistant lasted two day month didnt period took pregnancy test negative read review normal taking pill sure like factor im pretty pleased birth control please note progestin pill important take time daily'"
      ]
     },
     "execution_count": 41,
     "metadata": {},
     "output_type": "execute_result"
    }
   ],
   "source": [
    "x_data_text['Reviews'].iloc[12]"
   ]
  },
  {
   "cell_type": "markdown",
   "metadata": {},
   "source": [
    "# common words in negative reviews to be done after text preprocessing"
   ]
  },
  {
   "cell_type": "code",
   "execution_count": 42,
   "metadata": {},
   "outputs": [],
   "source": [
    "from wordcloud import WordCloud"
   ]
  },
  {
   "cell_type": "code",
   "execution_count": 43,
   "metadata": {},
   "outputs": [],
   "source": [
    "def cloud(data,backgroundcolor = 'white', width = 800, height = 600):\n",
    "    wordcloud = WordCloud(stopwords = STOPWORDS, background_color = backgroundcolor,\n",
    "                         width = width, height = height).generate(data)\n",
    "    plt.figure(figsize = (15, 10))\n",
    "    plt.imshow(wordcloud)\n",
    "    plt.axis(\"off\")\n",
    "    plt.show()"
   ]
  },
  {
   "cell_type": "code",
   "execution_count": 44,
   "metadata": {},
   "outputs": [
    {
     "data": {
      "image/png": "[encoded data removed]",
      "text/plain": [
       "<Figure size 1080x720 with 1 Axes>"
      ]
     },
     "metadata": {
      "needs_background": "light"
     },
     "output_type": "display_data"
    }
   ],
   "source": [
    "cloud(' '.join(x_data_text['Reviews']))"
   ]
  },
  {
   "cell_type": "markdown",
   "metadata": {},
   "source": [
    "# tf-idf"
   ]
  },
  {
   "cell_type": "code",
   "execution_count": 45,
   "metadata": {},
   "outputs": [],
   "source": [
    "from sklearn.feature_extraction.text import TfidfVectorizer"
   ]
  },
  {
   "cell_type": "code",
   "execution_count": 46,
   "metadata": {},
   "outputs": [],
   "source": [
    "import nltk"
   ]
  },
  {
   "cell_type": "markdown",
   "metadata": {},
   "source": []
  },
  {
   "cell_type": "code",
   "execution_count": 47,
   "metadata": {},
   "outputs": [],
   "source": [
    "vectorizer = TfidfVectorizer(max_features=1000,ngram_range=(1,1), min_df=10, max_df=0.8)\n"
   ]
  },
  {
   "cell_type": "code",
   "execution_count": 48,
   "metadata": {},
   "outputs": [],
   "source": [
    "X_data_vectorize = vectorizer.fit_transform(x_data_text[\"Reviews\"])\n",
    "\n"
   ]
  },
  {
   "cell_type": "code",
   "execution_count": 49,
   "metadata": {},
   "outputs": [
    {
     "data": {
      "text/plain": [
       "<167509x1000 sparse matrix of type '<class 'numpy.float64'>'\n",
       "\twith 3046614 stored elements in Compressed Sparse Row format>"
      ]
     },
     "execution_count": 49,
     "metadata": {},
     "output_type": "execute_result"
    }
   ],
   "source": [
    "X_data_vectorize"
   ]
  },
  {
   "cell_type": "code",
   "execution_count": 50,
   "metadata": {},
   "outputs": [],
   "source": [
    "dataframe = pd.DataFrame(X_data_vectorize.toarray(), columns=vectorizer.get_feature_names())"
   ]
  },
  {
   "cell_type": "code",
   "execution_count": 51,
   "metadata": {},
   "outputs": [
    {
     "data": {
      "text/html": [
       "<div>\n",
       "<style scoped>\n",
       "    .dataframe tbody tr th:only-of-type {\n",
       "        vertical-align: middle;\n",
       "    }\n",
       "\n",
       "    .dataframe tbody tr th {\n",
       "        vertical-align: top;\n",
       "    }\n",
       "\n",
       "    .dataframe thead th {\n",
       "        text-align: right;\n",
       "    }\n",
       "</style>\n",
       "<table border=\"1\" class=\"dataframe\">\n",
       "  <thead>\n",
       "    <tr style=\"text-align: right;\">\n",
       "      <th></th>\n",
       "      <th>10</th>\n",
       "      <th>100</th>\n",
       "      <th>100mg</th>\n",
       "      <th>10mg</th>\n",
       "      <th>11</th>\n",
       "      <th>12</th>\n",
       "      <th>13</th>\n",
       "      <th>14</th>\n",
       "      <th>15</th>\n",
       "      <th>150</th>\n",
       "      <th>...</th>\n",
       "      <th>xr</th>\n",
       "      <th>yaz</th>\n",
       "      <th>year</th>\n",
       "      <th>yes</th>\n",
       "      <th>yesterday</th>\n",
       "      <th>yet</th>\n",
       "      <th>youre</th>\n",
       "      <th>yr</th>\n",
       "      <th>zoloft</th>\n",
       "      <th>zombie</th>\n",
       "    </tr>\n",
       "  </thead>\n",
       "  <tbody>\n",
       "    <tr>\n",
       "      <th>0</th>\n",
       "      <td>0.0</td>\n",
       "      <td>0.0</td>\n",
       "      <td>0.0</td>\n",
       "      <td>0.0</td>\n",
       "      <td>0.0</td>\n",
       "      <td>0.0</td>\n",
       "      <td>0.0</td>\n",
       "      <td>0.0</td>\n",
       "      <td>0.0</td>\n",
       "      <td>0.0</td>\n",
       "      <td>...</td>\n",
       "      <td>0.0</td>\n",
       "      <td>0.0</td>\n",
       "      <td>0.0</td>\n",
       "      <td>0.0</td>\n",
       "      <td>0.0</td>\n",
       "      <td>0.0</td>\n",
       "      <td>0.0</td>\n",
       "      <td>0.0</td>\n",
       "      <td>0.0</td>\n",
       "      <td>0.0</td>\n",
       "    </tr>\n",
       "    <tr>\n",
       "      <th>1</th>\n",
       "      <td>0.0</td>\n",
       "      <td>0.0</td>\n",
       "      <td>0.0</td>\n",
       "      <td>0.0</td>\n",
       "      <td>0.0</td>\n",
       "      <td>0.0</td>\n",
       "      <td>0.0</td>\n",
       "      <td>0.0</td>\n",
       "      <td>0.0</td>\n",
       "      <td>0.0</td>\n",
       "      <td>...</td>\n",
       "      <td>0.0</td>\n",
       "      <td>0.0</td>\n",
       "      <td>0.0</td>\n",
       "      <td>0.0</td>\n",
       "      <td>0.0</td>\n",
       "      <td>0.0</td>\n",
       "      <td>0.0</td>\n",
       "      <td>0.0</td>\n",
       "      <td>0.0</td>\n",
       "      <td>0.0</td>\n",
       "    </tr>\n",
       "    <tr>\n",
       "      <th>2</th>\n",
       "      <td>0.0</td>\n",
       "      <td>0.0</td>\n",
       "      <td>0.0</td>\n",
       "      <td>0.0</td>\n",
       "      <td>0.0</td>\n",
       "      <td>0.0</td>\n",
       "      <td>0.0</td>\n",
       "      <td>0.0</td>\n",
       "      <td>0.0</td>\n",
       "      <td>0.0</td>\n",
       "      <td>...</td>\n",
       "      <td>0.0</td>\n",
       "      <td>0.0</td>\n",
       "      <td>0.0</td>\n",
       "      <td>0.0</td>\n",
       "      <td>0.0</td>\n",
       "      <td>0.0</td>\n",
       "      <td>0.0</td>\n",
       "      <td>0.0</td>\n",
       "      <td>0.0</td>\n",
       "      <td>0.0</td>\n",
       "    </tr>\n",
       "    <tr>\n",
       "      <th>3</th>\n",
       "      <td>0.0</td>\n",
       "      <td>0.0</td>\n",
       "      <td>0.0</td>\n",
       "      <td>0.0</td>\n",
       "      <td>0.0</td>\n",
       "      <td>0.0</td>\n",
       "      <td>0.0</td>\n",
       "      <td>0.0</td>\n",
       "      <td>0.0</td>\n",
       "      <td>0.0</td>\n",
       "      <td>...</td>\n",
       "      <td>0.0</td>\n",
       "      <td>0.0</td>\n",
       "      <td>0.0</td>\n",
       "      <td>0.0</td>\n",
       "      <td>0.0</td>\n",
       "      <td>0.0</td>\n",
       "      <td>0.0</td>\n",
       "      <td>0.0</td>\n",
       "      <td>0.0</td>\n",
       "      <td>0.0</td>\n",
       "    </tr>\n",
       "    <tr>\n",
       "      <th>4</th>\n",
       "      <td>0.0</td>\n",
       "      <td>0.0</td>\n",
       "      <td>0.0</td>\n",
       "      <td>0.0</td>\n",
       "      <td>0.0</td>\n",
       "      <td>0.0</td>\n",
       "      <td>0.0</td>\n",
       "      <td>0.0</td>\n",
       "      <td>0.0</td>\n",
       "      <td>0.0</td>\n",
       "      <td>...</td>\n",
       "      <td>0.0</td>\n",
       "      <td>0.0</td>\n",
       "      <td>0.0</td>\n",
       "      <td>0.0</td>\n",
       "      <td>0.0</td>\n",
       "      <td>0.0</td>\n",
       "      <td>0.0</td>\n",
       "      <td>0.0</td>\n",
       "      <td>0.0</td>\n",
       "      <td>0.0</td>\n",
       "    </tr>\n",
       "    <tr>\n",
       "      <th>...</th>\n",
       "      <td>...</td>\n",
       "      <td>...</td>\n",
       "      <td>...</td>\n",
       "      <td>...</td>\n",
       "      <td>...</td>\n",
       "      <td>...</td>\n",
       "      <td>...</td>\n",
       "      <td>...</td>\n",
       "      <td>...</td>\n",
       "      <td>...</td>\n",
       "      <td>...</td>\n",
       "      <td>...</td>\n",
       "      <td>...</td>\n",
       "      <td>...</td>\n",
       "      <td>...</td>\n",
       "      <td>...</td>\n",
       "      <td>...</td>\n",
       "      <td>...</td>\n",
       "      <td>...</td>\n",
       "      <td>...</td>\n",
       "      <td>...</td>\n",
       "    </tr>\n",
       "    <tr>\n",
       "      <th>167504</th>\n",
       "      <td>0.0</td>\n",
       "      <td>0.0</td>\n",
       "      <td>0.0</td>\n",
       "      <td>0.0</td>\n",
       "      <td>0.0</td>\n",
       "      <td>0.0</td>\n",
       "      <td>0.0</td>\n",
       "      <td>0.0</td>\n",
       "      <td>0.0</td>\n",
       "      <td>0.0</td>\n",
       "      <td>...</td>\n",
       "      <td>0.0</td>\n",
       "      <td>0.0</td>\n",
       "      <td>0.0</td>\n",
       "      <td>0.0</td>\n",
       "      <td>0.0</td>\n",
       "      <td>0.0</td>\n",
       "      <td>0.0</td>\n",
       "      <td>0.0</td>\n",
       "      <td>0.0</td>\n",
       "      <td>0.0</td>\n",
       "    </tr>\n",
       "    <tr>\n",
       "      <th>167505</th>\n",
       "      <td>0.0</td>\n",
       "      <td>0.0</td>\n",
       "      <td>0.0</td>\n",
       "      <td>0.0</td>\n",
       "      <td>0.0</td>\n",
       "      <td>0.0</td>\n",
       "      <td>0.0</td>\n",
       "      <td>0.0</td>\n",
       "      <td>0.0</td>\n",
       "      <td>0.0</td>\n",
       "      <td>...</td>\n",
       "      <td>0.0</td>\n",
       "      <td>0.0</td>\n",
       "      <td>0.0</td>\n",
       "      <td>0.0</td>\n",
       "      <td>0.0</td>\n",
       "      <td>0.0</td>\n",
       "      <td>0.0</td>\n",
       "      <td>0.0</td>\n",
       "      <td>0.0</td>\n",
       "      <td>0.0</td>\n",
       "    </tr>\n",
       "    <tr>\n",
       "      <th>167506</th>\n",
       "      <td>0.0</td>\n",
       "      <td>0.0</td>\n",
       "      <td>0.0</td>\n",
       "      <td>0.0</td>\n",
       "      <td>0.0</td>\n",
       "      <td>0.0</td>\n",
       "      <td>0.0</td>\n",
       "      <td>0.0</td>\n",
       "      <td>0.0</td>\n",
       "      <td>0.0</td>\n",
       "      <td>...</td>\n",
       "      <td>0.0</td>\n",
       "      <td>0.0</td>\n",
       "      <td>0.0</td>\n",
       "      <td>0.0</td>\n",
       "      <td>0.0</td>\n",
       "      <td>0.0</td>\n",
       "      <td>0.0</td>\n",
       "      <td>0.0</td>\n",
       "      <td>0.0</td>\n",
       "      <td>0.0</td>\n",
       "    </tr>\n",
       "    <tr>\n",
       "      <th>167507</th>\n",
       "      <td>0.0</td>\n",
       "      <td>0.0</td>\n",
       "      <td>0.0</td>\n",
       "      <td>0.0</td>\n",
       "      <td>0.0</td>\n",
       "      <td>0.0</td>\n",
       "      <td>0.0</td>\n",
       "      <td>0.0</td>\n",
       "      <td>0.0</td>\n",
       "      <td>0.0</td>\n",
       "      <td>...</td>\n",
       "      <td>0.0</td>\n",
       "      <td>0.0</td>\n",
       "      <td>0.0</td>\n",
       "      <td>0.0</td>\n",
       "      <td>0.0</td>\n",
       "      <td>0.0</td>\n",
       "      <td>0.0</td>\n",
       "      <td>0.0</td>\n",
       "      <td>0.0</td>\n",
       "      <td>0.0</td>\n",
       "    </tr>\n",
       "    <tr>\n",
       "      <th>167508</th>\n",
       "      <td>0.0</td>\n",
       "      <td>0.0</td>\n",
       "      <td>0.0</td>\n",
       "      <td>0.0</td>\n",
       "      <td>0.0</td>\n",
       "      <td>0.0</td>\n",
       "      <td>0.0</td>\n",
       "      <td>0.0</td>\n",
       "      <td>0.0</td>\n",
       "      <td>0.0</td>\n",
       "      <td>...</td>\n",
       "      <td>0.0</td>\n",
       "      <td>0.0</td>\n",
       "      <td>0.0</td>\n",
       "      <td>0.0</td>\n",
       "      <td>0.0</td>\n",
       "      <td>0.0</td>\n",
       "      <td>0.0</td>\n",
       "      <td>0.0</td>\n",
       "      <td>0.0</td>\n",
       "      <td>0.0</td>\n",
       "    </tr>\n",
       "  </tbody>\n",
       "</table>\n",
       "<p>167509 rows × 1000 columns</p>\n",
       "</div>"
      ],
      "text/plain": [
       "         10  100  100mg  10mg   11   12   13   14   15  150  ...   xr  yaz  \\\n",
       "0       0.0  0.0    0.0   0.0  0.0  0.0  0.0  0.0  0.0  0.0  ...  0.0  0.0   \n",
       "1       0.0  0.0    0.0   0.0  0.0  0.0  0.0  0.0  0.0  0.0  ...  0.0  0.0   \n",
       "2       0.0  0.0    0.0   0.0  0.0  0.0  0.0  0.0  0.0  0.0  ...  0.0  0.0   \n",
       "3       0.0  0.0    0.0   0.0  0.0  0.0  0.0  0.0  0.0  0.0  ...  0.0  0.0   \n",
       "4       0.0  0.0    0.0   0.0  0.0  0.0  0.0  0.0  0.0  0.0  ...  0.0  0.0   \n",
       "...     ...  ...    ...   ...  ...  ...  ...  ...  ...  ...  ...  ...  ...   \n",
       "167504  0.0  0.0    0.0   0.0  0.0  0.0  0.0  0.0  0.0  0.0  ...  0.0  0.0   \n",
       "167505  0.0  0.0    0.0   0.0  0.0  0.0  0.0  0.0  0.0  0.0  ...  0.0  0.0   \n",
       "167506  0.0  0.0    0.0   0.0  0.0  0.0  0.0  0.0  0.0  0.0  ...  0.0  0.0   \n",
       "167507  0.0  0.0    0.0   0.0  0.0  0.0  0.0  0.0  0.0  0.0  ...  0.0  0.0   \n",
       "167508  0.0  0.0    0.0   0.0  0.0  0.0  0.0  0.0  0.0  0.0  ...  0.0  0.0   \n",
       "\n",
       "        year  yes  yesterday  yet  youre   yr  zoloft  zombie  \n",
       "0        0.0  0.0        0.0  0.0    0.0  0.0     0.0     0.0  \n",
       "1        0.0  0.0        0.0  0.0    0.0  0.0     0.0     0.0  \n",
       "2        0.0  0.0        0.0  0.0    0.0  0.0     0.0     0.0  \n",
       "3        0.0  0.0        0.0  0.0    0.0  0.0     0.0     0.0  \n",
       "4        0.0  0.0        0.0  0.0    0.0  0.0     0.0     0.0  \n",
       "...      ...  ...        ...  ...    ...  ...     ...     ...  \n",
       "167504   0.0  0.0        0.0  0.0    0.0  0.0     0.0     0.0  \n",
       "167505   0.0  0.0        0.0  0.0    0.0  0.0     0.0     0.0  \n",
       "167506   0.0  0.0        0.0  0.0    0.0  0.0     0.0     0.0  \n",
       "167507   0.0  0.0        0.0  0.0    0.0  0.0     0.0     0.0  \n",
       "167508   0.0  0.0        0.0  0.0    0.0  0.0     0.0     0.0  \n",
       "\n",
       "[167509 rows x 1000 columns]"
      ]
     },
     "execution_count": 51,
     "metadata": {},
     "output_type": "execute_result"
    }
   ],
   "source": [
    "dataframe"
   ]
  },
  {
   "cell_type": "markdown",
   "metadata": {},
   "source": [
    "# in this we will only consider textual features as "
   ]
  },
  {
   "cell_type": "code",
   "execution_count": 52,
   "metadata": {},
   "outputs": [],
   "source": [
    "dataframe.reset_index(drop=True, inplace=True)\n",
    "x_data.reset_index(drop=True,inplace = True)"
   ]
  },
  {
   "cell_type": "code",
   "execution_count": 53,
   "metadata": {},
   "outputs": [],
   "source": [
    "final_data = pd.concat([dataframe, x_data], axis=1)"
   ]
  },
  {
   "cell_type": "code",
   "execution_count": 54,
   "metadata": {},
   "outputs": [],
   "source": [
    "final_data.drop(['Reviews'],axis = 1 , inplace = True)"
   ]
  },
  {
   "cell_type": "markdown",
   "metadata": {},
   "source": [
    "# final data which consist of tfidf and other numerical features"
   ]
  },
  {
   "cell_type": "code",
   "execution_count": 55,
   "metadata": {},
   "outputs": [
    {
     "data": {
      "text/html": [
       "<div>\n",
       "<style scoped>\n",
       "    .dataframe tbody tr th:only-of-type {\n",
       "        vertical-align: middle;\n",
       "    }\n",
       "\n",
       "    .dataframe tbody tr th {\n",
       "        vertical-align: top;\n",
       "    }\n",
       "\n",
       "    .dataframe thead th {\n",
       "        text-align: right;\n",
       "    }\n",
       "</style>\n",
       "<table border=\"1\" class=\"dataframe\">\n",
       "  <thead>\n",
       "    <tr style=\"text-align: right;\">\n",
       "      <th></th>\n",
       "      <th>10</th>\n",
       "      <th>100</th>\n",
       "      <th>100mg</th>\n",
       "      <th>10mg</th>\n",
       "      <th>11</th>\n",
       "      <th>12</th>\n",
       "      <th>13</th>\n",
       "      <th>14</th>\n",
       "      <th>15</th>\n",
       "      <th>150</th>\n",
       "      <th>...</th>\n",
       "      <th>yet</th>\n",
       "      <th>youre</th>\n",
       "      <th>yr</th>\n",
       "      <th>zoloft</th>\n",
       "      <th>zombie</th>\n",
       "      <th>DrugId</th>\n",
       "      <th>EaseofUse</th>\n",
       "      <th>Effectiveness</th>\n",
       "      <th>Satisfaction</th>\n",
       "      <th>UsefulCount</th>\n",
       "    </tr>\n",
       "  </thead>\n",
       "  <tbody>\n",
       "    <tr>\n",
       "      <th>0</th>\n",
       "      <td>0.0</td>\n",
       "      <td>0.0</td>\n",
       "      <td>0.0</td>\n",
       "      <td>0.0</td>\n",
       "      <td>0.0</td>\n",
       "      <td>0.0</td>\n",
       "      <td>0.0</td>\n",
       "      <td>0.0</td>\n",
       "      <td>0.0</td>\n",
       "      <td>0.0</td>\n",
       "      <td>...</td>\n",
       "      <td>0.0</td>\n",
       "      <td>0.0</td>\n",
       "      <td>0.0</td>\n",
       "      <td>0.0</td>\n",
       "      <td>0.0</td>\n",
       "      <td>163180</td>\n",
       "      <td>2</td>\n",
       "      <td>5</td>\n",
       "      <td>0</td>\n",
       "      <td>0</td>\n",
       "    </tr>\n",
       "    <tr>\n",
       "      <th>1</th>\n",
       "      <td>0.0</td>\n",
       "      <td>0.0</td>\n",
       "      <td>0.0</td>\n",
       "      <td>0.0</td>\n",
       "      <td>0.0</td>\n",
       "      <td>0.0</td>\n",
       "      <td>0.0</td>\n",
       "      <td>0.0</td>\n",
       "      <td>0.0</td>\n",
       "      <td>0.0</td>\n",
       "      <td>...</td>\n",
       "      <td>0.0</td>\n",
       "      <td>0.0</td>\n",
       "      <td>0.0</td>\n",
       "      <td>0.0</td>\n",
       "      <td>0.0</td>\n",
       "      <td>163180</td>\n",
       "      <td>2</td>\n",
       "      <td>2</td>\n",
       "      <td>0</td>\n",
       "      <td>1</td>\n",
       "    </tr>\n",
       "    <tr>\n",
       "      <th>2</th>\n",
       "      <td>0.0</td>\n",
       "      <td>0.0</td>\n",
       "      <td>0.0</td>\n",
       "      <td>0.0</td>\n",
       "      <td>0.0</td>\n",
       "      <td>0.0</td>\n",
       "      <td>0.0</td>\n",
       "      <td>0.0</td>\n",
       "      <td>0.0</td>\n",
       "      <td>0.0</td>\n",
       "      <td>...</td>\n",
       "      <td>0.0</td>\n",
       "      <td>0.0</td>\n",
       "      <td>0.0</td>\n",
       "      <td>0.0</td>\n",
       "      <td>0.0</td>\n",
       "      <td>164750</td>\n",
       "      <td>2</td>\n",
       "      <td>5</td>\n",
       "      <td>0</td>\n",
       "      <td>0</td>\n",
       "    </tr>\n",
       "    <tr>\n",
       "      <th>3</th>\n",
       "      <td>0.0</td>\n",
       "      <td>0.0</td>\n",
       "      <td>0.0</td>\n",
       "      <td>0.0</td>\n",
       "      <td>0.0</td>\n",
       "      <td>0.0</td>\n",
       "      <td>0.0</td>\n",
       "      <td>0.0</td>\n",
       "      <td>0.0</td>\n",
       "      <td>0.0</td>\n",
       "      <td>...</td>\n",
       "      <td>0.0</td>\n",
       "      <td>0.0</td>\n",
       "      <td>0.0</td>\n",
       "      <td>0.0</td>\n",
       "      <td>0.0</td>\n",
       "      <td>164750</td>\n",
       "      <td>0</td>\n",
       "      <td>1</td>\n",
       "      <td>0</td>\n",
       "      <td>0</td>\n",
       "    </tr>\n",
       "    <tr>\n",
       "      <th>4</th>\n",
       "      <td>0.0</td>\n",
       "      <td>0.0</td>\n",
       "      <td>0.0</td>\n",
       "      <td>0.0</td>\n",
       "      <td>0.0</td>\n",
       "      <td>0.0</td>\n",
       "      <td>0.0</td>\n",
       "      <td>0.0</td>\n",
       "      <td>0.0</td>\n",
       "      <td>0.0</td>\n",
       "      <td>...</td>\n",
       "      <td>0.0</td>\n",
       "      <td>0.0</td>\n",
       "      <td>0.0</td>\n",
       "      <td>0.0</td>\n",
       "      <td>0.0</td>\n",
       "      <td>164750</td>\n",
       "      <td>0</td>\n",
       "      <td>3</td>\n",
       "      <td>0</td>\n",
       "      <td>0</td>\n",
       "    </tr>\n",
       "    <tr>\n",
       "      <th>...</th>\n",
       "      <td>...</td>\n",
       "      <td>...</td>\n",
       "      <td>...</td>\n",
       "      <td>...</td>\n",
       "      <td>...</td>\n",
       "      <td>...</td>\n",
       "      <td>...</td>\n",
       "      <td>...</td>\n",
       "      <td>...</td>\n",
       "      <td>...</td>\n",
       "      <td>...</td>\n",
       "      <td>...</td>\n",
       "      <td>...</td>\n",
       "      <td>...</td>\n",
       "      <td>...</td>\n",
       "      <td>...</td>\n",
       "      <td>...</td>\n",
       "      <td>...</td>\n",
       "      <td>...</td>\n",
       "      <td>...</td>\n",
       "      <td>...</td>\n",
       "    </tr>\n",
       "    <tr>\n",
       "      <th>167504</th>\n",
       "      <td>0.0</td>\n",
       "      <td>0.0</td>\n",
       "      <td>0.0</td>\n",
       "      <td>0.0</td>\n",
       "      <td>0.0</td>\n",
       "      <td>0.0</td>\n",
       "      <td>0.0</td>\n",
       "      <td>0.0</td>\n",
       "      <td>0.0</td>\n",
       "      <td>0.0</td>\n",
       "      <td>...</td>\n",
       "      <td>0.0</td>\n",
       "      <td>0.0</td>\n",
       "      <td>0.0</td>\n",
       "      <td>0.0</td>\n",
       "      <td>0.0</td>\n",
       "      <td>163265</td>\n",
       "      <td>2</td>\n",
       "      <td>4</td>\n",
       "      <td>1</td>\n",
       "      <td>0</td>\n",
       "    </tr>\n",
       "    <tr>\n",
       "      <th>167505</th>\n",
       "      <td>0.0</td>\n",
       "      <td>0.0</td>\n",
       "      <td>0.0</td>\n",
       "      <td>0.0</td>\n",
       "      <td>0.0</td>\n",
       "      <td>0.0</td>\n",
       "      <td>0.0</td>\n",
       "      <td>0.0</td>\n",
       "      <td>0.0</td>\n",
       "      <td>0.0</td>\n",
       "      <td>...</td>\n",
       "      <td>0.0</td>\n",
       "      <td>0.0</td>\n",
       "      <td>0.0</td>\n",
       "      <td>0.0</td>\n",
       "      <td>0.0</td>\n",
       "      <td>163265</td>\n",
       "      <td>1</td>\n",
       "      <td>4</td>\n",
       "      <td>0</td>\n",
       "      <td>0</td>\n",
       "    </tr>\n",
       "    <tr>\n",
       "      <th>167506</th>\n",
       "      <td>0.0</td>\n",
       "      <td>0.0</td>\n",
       "      <td>0.0</td>\n",
       "      <td>0.0</td>\n",
       "      <td>0.0</td>\n",
       "      <td>0.0</td>\n",
       "      <td>0.0</td>\n",
       "      <td>0.0</td>\n",
       "      <td>0.0</td>\n",
       "      <td>0.0</td>\n",
       "      <td>...</td>\n",
       "      <td>0.0</td>\n",
       "      <td>0.0</td>\n",
       "      <td>0.0</td>\n",
       "      <td>0.0</td>\n",
       "      <td>0.0</td>\n",
       "      <td>163265</td>\n",
       "      <td>0</td>\n",
       "      <td>1</td>\n",
       "      <td>0</td>\n",
       "      <td>0</td>\n",
       "    </tr>\n",
       "    <tr>\n",
       "      <th>167507</th>\n",
       "      <td>0.0</td>\n",
       "      <td>0.0</td>\n",
       "      <td>0.0</td>\n",
       "      <td>0.0</td>\n",
       "      <td>0.0</td>\n",
       "      <td>0.0</td>\n",
       "      <td>0.0</td>\n",
       "      <td>0.0</td>\n",
       "      <td>0.0</td>\n",
       "      <td>0.0</td>\n",
       "      <td>...</td>\n",
       "      <td>0.0</td>\n",
       "      <td>0.0</td>\n",
       "      <td>0.0</td>\n",
       "      <td>0.0</td>\n",
       "      <td>0.0</td>\n",
       "      <td>163265</td>\n",
       "      <td>0</td>\n",
       "      <td>3</td>\n",
       "      <td>0</td>\n",
       "      <td>3</td>\n",
       "    </tr>\n",
       "    <tr>\n",
       "      <th>167508</th>\n",
       "      <td>0.0</td>\n",
       "      <td>0.0</td>\n",
       "      <td>0.0</td>\n",
       "      <td>0.0</td>\n",
       "      <td>0.0</td>\n",
       "      <td>0.0</td>\n",
       "      <td>0.0</td>\n",
       "      <td>0.0</td>\n",
       "      <td>0.0</td>\n",
       "      <td>0.0</td>\n",
       "      <td>...</td>\n",
       "      <td>0.0</td>\n",
       "      <td>0.0</td>\n",
       "      <td>0.0</td>\n",
       "      <td>0.0</td>\n",
       "      <td>0.0</td>\n",
       "      <td>163265</td>\n",
       "      <td>2</td>\n",
       "      <td>2</td>\n",
       "      <td>0</td>\n",
       "      <td>1</td>\n",
       "    </tr>\n",
       "  </tbody>\n",
       "</table>\n",
       "<p>167509 rows × 1005 columns</p>\n",
       "</div>"
      ],
      "text/plain": [
       "         10  100  100mg  10mg   11   12   13   14   15  150  ...  yet  youre  \\\n",
       "0       0.0  0.0    0.0   0.0  0.0  0.0  0.0  0.0  0.0  0.0  ...  0.0    0.0   \n",
       "1       0.0  0.0    0.0   0.0  0.0  0.0  0.0  0.0  0.0  0.0  ...  0.0    0.0   \n",
       "2       0.0  0.0    0.0   0.0  0.0  0.0  0.0  0.0  0.0  0.0  ...  0.0    0.0   \n",
       "3       0.0  0.0    0.0   0.0  0.0  0.0  0.0  0.0  0.0  0.0  ...  0.0    0.0   \n",
       "4       0.0  0.0    0.0   0.0  0.0  0.0  0.0  0.0  0.0  0.0  ...  0.0    0.0   \n",
       "...     ...  ...    ...   ...  ...  ...  ...  ...  ...  ...  ...  ...    ...   \n",
       "167504  0.0  0.0    0.0   0.0  0.0  0.0  0.0  0.0  0.0  0.0  ...  0.0    0.0   \n",
       "167505  0.0  0.0    0.0   0.0  0.0  0.0  0.0  0.0  0.0  0.0  ...  0.0    0.0   \n",
       "167506  0.0  0.0    0.0   0.0  0.0  0.0  0.0  0.0  0.0  0.0  ...  0.0    0.0   \n",
       "167507  0.0  0.0    0.0   0.0  0.0  0.0  0.0  0.0  0.0  0.0  ...  0.0    0.0   \n",
       "167508  0.0  0.0    0.0   0.0  0.0  0.0  0.0  0.0  0.0  0.0  ...  0.0    0.0   \n",
       "\n",
       "         yr  zoloft  zombie  DrugId  EaseofUse  Effectiveness  Satisfaction  \\\n",
       "0       0.0     0.0     0.0  163180          2              5             0   \n",
       "1       0.0     0.0     0.0  163180          2              2             0   \n",
       "2       0.0     0.0     0.0  164750          2              5             0   \n",
       "3       0.0     0.0     0.0  164750          0              1             0   \n",
       "4       0.0     0.0     0.0  164750          0              3             0   \n",
       "...     ...     ...     ...     ...        ...            ...           ...   \n",
       "167504  0.0     0.0     0.0  163265          2              4             1   \n",
       "167505  0.0     0.0     0.0  163265          1              4             0   \n",
       "167506  0.0     0.0     0.0  163265          0              1             0   \n",
       "167507  0.0     0.0     0.0  163265          0              3             0   \n",
       "167508  0.0     0.0     0.0  163265          2              2             0   \n",
       "\n",
       "        UsefulCount  \n",
       "0                 0  \n",
       "1                 1  \n",
       "2                 0  \n",
       "3                 0  \n",
       "4                 0  \n",
       "...             ...  \n",
       "167504            0  \n",
       "167505            0  \n",
       "167506            0  \n",
       "167507            3  \n",
       "167508            1  \n",
       "\n",
       "[167509 rows x 1005 columns]"
      ]
     },
     "execution_count": 55,
     "metadata": {},
     "output_type": "execute_result"
    }
   ],
   "source": [
    "final_data\n"
   ]
  },
  {
   "cell_type": "markdown",
   "metadata": {},
   "source": [
    "# you could have also tried to normalise this data"
   ]
  },
  {
   "cell_type": "code",
   "execution_count": 56,
   "metadata": {},
   "outputs": [],
   "source": [
    "from sklearn.model_selection import train_test_split, StratifiedKFold\n"
   ]
  },
  {
   "cell_type": "code",
   "execution_count": 57,
   "metadata": {},
   "outputs": [],
   "source": [
    "folds = StratifiedKFold(n_splits=10, shuffle=True, random_state = 2)"
   ]
  },
  {
   "cell_type": "code",
   "execution_count": 58,
   "metadata": {},
   "outputs": [],
   "source": [
    "x_train,x_test , y_train,y_test = train_test_split(final_data, y_data, test_size = 0.2 , random_state = 2)"
   ]
  },
  {
   "cell_type": "code",
   "execution_count": 59,
   "metadata": {},
   "outputs": [
    {
     "name": "stdout",
     "output_type": "stream",
     "text": [
      "134007 33502 134007 33502\n"
     ]
    }
   ],
   "source": [
    "print(len(x_train), len(x_test), len(y_train), len(y_test))"
   ]
  },
  {
   "cell_type": "code",
   "execution_count": 60,
   "metadata": {},
   "outputs": [],
   "source": [
    "import imblearn\n",
    "from imblearn.over_sampling import SMOTE"
   ]
  },
  {
   "cell_type": "code",
   "execution_count": 61,
   "metadata": {},
   "outputs": [],
   "source": [
    "oversample = SMOTE(sampling_strategy= 'all')"
   ]
  },
  {
   "cell_type": "code",
   "execution_count": 62,
   "metadata": {},
   "outputs": [],
   "source": [
    "x_train_resampled, y_train_resampled = oversample.fit_resample(x_train, y_train)\n",
    "x_test_resampled, y_test_resampled = oversample.fit_resample(x_test, y_test)"
   ]
  },
  {
   "cell_type": "code",
   "execution_count": 63,
   "metadata": {},
   "outputs": [
    {
     "data": {
      "text/plain": [
       "Attention Deficit Disorder with Hyperactivity                20188\n",
       "Cough                                                        20188\n",
       "Chronic Trouble Sleeping                                     20188\n",
       "Disorder characterized by Stiff, Tender & Painful Muscles    20188\n",
       "Acne                                                         20188\n",
       "High Blood Pressure                                          20188\n",
       "Birth Control                                                20188\n",
       "Overweight                                                   20188\n",
       "Asthma                                                       20188\n",
       "Migraine Prevention                                          20188\n",
       "Chronic Pain                                                 20188\n",
       "Migraine Headache                                            20188\n",
       "High Cholesterol                                             20188\n",
       "Bipolar Depression                                           20188\n",
       "Panic Disorder                                               20188\n",
       "Depression                                                   20188\n",
       "Type 2 Diabetes Mellitus                                     20188\n",
       "Repeated Episodes of Anxiety                                 20188\n",
       "Major Depressive Disorder                                    20188\n",
       "Neuropathic Pain                                             20188\n",
       "Pain                                                         20188\n",
       "Rheumatoid Arthritis                                         20188\n",
       "Joint Damage causing Pain and Loss of Function               20188\n",
       "Underactive Thyroid                                          20188\n",
       "Anxious                                                      20188\n",
       "Name: Condition, dtype: int64"
      ]
     },
     "execution_count": 63,
     "metadata": {},
     "output_type": "execute_result"
    }
   ],
   "source": [
    "y_train_resampled.value_counts()"
   ]
  },
  {
   "cell_type": "code",
   "execution_count": 64,
   "metadata": {},
   "outputs": [
    {
     "data": {
      "text/plain": [
       "Attention Deficit Disorder with Hyperactivity                5037\n",
       "Chronic Pain                                                 5037\n",
       "Panic Disorder                                               5037\n",
       "Birth Control                                                5037\n",
       "Overweight                                                   5037\n",
       "Asthma                                                       5037\n",
       "Migraine Prevention                                          5037\n",
       "Chronic Trouble Sleeping                                     5037\n",
       "Repeated Episodes of Anxiety                                 5037\n",
       "Major Depressive Disorder                                    5037\n",
       "Neuropathic Pain                                             5037\n",
       "Pain                                                         5037\n",
       "Depression                                                   5037\n",
       "High Blood Pressure                                          5037\n",
       "Rheumatoid Arthritis                                         5037\n",
       "Disorder characterized by Stiff, Tender & Painful Muscles    5037\n",
       "Migraine Headache                                            5037\n",
       "Acne                                                         5037\n",
       "Joint Damage causing Pain and Loss of Function               5037\n",
       "Cough                                                        5037\n",
       "High Cholesterol                                             5037\n",
       "Underactive Thyroid                                          5037\n",
       "Type 2 Diabetes Mellitus                                     5037\n",
       "Bipolar Depression                                           5037\n",
       "Anxious                                                      5037\n",
       "Name: Condition, dtype: int64"
      ]
     },
     "execution_count": 64,
     "metadata": {},
     "output_type": "execute_result"
    }
   ],
   "source": [
    "y_test_resampled.value_counts()"
   ]
  },
  {
   "cell_type": "code",
   "execution_count": 65,
   "metadata": {},
   "outputs": [],
   "source": [
    "from sklearn.preprocessing import StandardScaler\n",
    "\n",
    "ss = StandardScaler()"
   ]
  },
  {
   "cell_type": "code",
   "execution_count": 66,
   "metadata": {},
   "outputs": [],
   "source": [
    "x_train_s = ss.fit_transform(x_train_resampled)\n",
    "\n",
    "x_test_s = ss.transform(x_test_resampled)"
   ]
  },
  {
   "cell_type": "code",
   "execution_count": 67,
   "metadata": {},
   "outputs": [],
   "source": [
    "from sklearn.naive_bayes import MultinomialNB\n",
    "from sklearn.ensemble import RandomForestClassifier"
   ]
  },
  {
   "cell_type": "code",
   "execution_count": 68,
   "metadata": {},
   "outputs": [
    {
     "name": "stdout",
     "output_type": "stream",
     "text": [
      "Wall time: 1min 1s\n"
     ]
    },
    {
     "data": {
      "text/plain": [
       "RandomForestClassifier(max_depth=5, min_samples_split=6)"
      ]
     },
     "execution_count": 68,
     "metadata": {},
     "output_type": "execute_result"
    }
   ],
   "source": [
    "%%time\n",
    "model = RandomForestClassifier( max_depth = 5, min_samples_split = 6)\n",
    "model.fit(x_train_s, y_train_resampled)"
   ]
  },
  {
   "cell_type": "code",
   "execution_count": 70,
   "metadata": {},
   "outputs": [],
   "source": [
    "from sklearn.metrics import classification_report\n",
    "from sklearn.metrics import f1_score, accuracy_score, precision_score, recall_score, confusion_matrix, make_scorer"
   ]
  },
  {
   "cell_type": "code",
   "execution_count": 71,
   "metadata": {},
   "outputs": [
    {
     "name": "stdout",
     "output_type": "stream",
     "text": [
      "\n",
      "Accuracy in test  set: 0.5137\n",
      "\n",
      "                                                           precision    recall  f1-score   support\n",
      "\n",
      "                                                     Acne    0.69772   0.80881   0.74917      5037\n",
      "                                                  Anxious    0.53007   0.15049   0.23442      5037\n",
      "                                                   Asthma    0.85860   0.55092   0.67118      5037\n",
      "            Attention Deficit Disorder with Hyperactivity    0.82326   0.67322   0.74072      5037\n",
      "                                       Bipolar Depression    0.71424   0.39944   0.51235      5037\n",
      "                                            Birth Control    0.64697   0.78261   0.70836      5037\n",
      "                                             Chronic Pain    0.49413   0.48501   0.48953      5037\n",
      "                                 Chronic Trouble Sleeping    0.22858   0.74727   0.35007      5037\n",
      "                                                    Cough    0.77737   0.79512   0.78614      5037\n",
      "                                               Depression    0.47564   0.13957   0.21581      5037\n",
      "Disorder characterized by Stiff, Tender & Painful Muscles    0.60706   0.34505   0.44000      5037\n",
      "                                      High Blood Pressure    0.25770   0.53464   0.34778      5037\n",
      "                                         High Cholesterol    0.68197   0.66925   0.67555      5037\n",
      "           Joint Damage causing Pain and Loss of Function    0.31559   0.40838   0.35604      5037\n",
      "                                Major Depressive Disorder    0.63579   0.35696   0.45722      5037\n",
      "                                        Migraine Headache    0.75528   0.68195   0.71674      5037\n",
      "                                      Migraine Prevention    0.81809   0.61068   0.69933      5037\n",
      "                                         Neuropathic Pain    0.66053   0.16379   0.26249      5037\n",
      "                                               Overweight    0.54271   0.79710   0.64576      5037\n",
      "                                                     Pain    0.25794   0.58050   0.35717      5037\n",
      "                                           Panic Disorder    0.43529   0.55827   0.48917      5037\n",
      "                             Repeated Episodes of Anxiety    0.39121   0.25988   0.31230      5037\n",
      "                                     Rheumatoid Arthritis    0.80760   0.32500   0.46348      5037\n",
      "                                 Type 2 Diabetes Mellitus    0.77154   0.51022   0.61424      5037\n",
      "                                      Underactive Thyroid    0.77646   0.50824   0.61435      5037\n",
      "\n",
      "                                                 accuracy                        0.51369    125925\n",
      "                                                macro avg    0.59845   0.51369   0.51637    125925\n",
      "                                             weighted avg    0.59845   0.51369   0.51637    125925\n",
      "\n",
      "0.5163747197562032\n",
      "0.5136946595195553\n",
      "0.5984536275619857\n"
     ]
    }
   ],
   "source": [
    "\n",
    "predictions = model.predict(x_test_s)\n",
    "acc_test = accuracy_score(y_test_resampled, predictions)\n",
    "print(f\"\\nAccuracy in test  set: {acc_test:.4}\\n\")\n",
    "print(classification_report(y_test_resampled, predictions, digits = 5))\n",
    "confusion_matrix(y_test_resampled, predictions)\n",
    "print(f1_score(y_test_resampled,predictions, average = 'weighted'))\n",
    "print(recall_score(y_test_resampled,predictions, average = 'weighted'))\n",
    "print(precision_score(y_test_resampled,predictions, average = 'weighted'))"
   ]
  },
  {
   "cell_type": "code",
   "execution_count": 72,
   "metadata": {},
   "outputs": [],
   "source": [
    "from sklearn.ensemble import AdaBoostClassifier"
   ]
  },
  {
   "cell_type": "code",
   "execution_count": 73,
   "metadata": {},
   "outputs": [],
   "source": [
    "ada = AdaBoostClassifier(n_estimators = 100, learning_rate = 0.5)"
   ]
  },
  {
   "cell_type": "code",
   "execution_count": 74,
   "metadata": {},
   "outputs": [
    {
     "name": "stdout",
     "output_type": "stream",
     "text": [
      "Wall time: 14min 26s\n"
     ]
    },
    {
     "data": {
      "text/plain": [
       "AdaBoostClassifier(learning_rate=0.5, n_estimators=100)"
      ]
     },
     "execution_count": 74,
     "metadata": {},
     "output_type": "execute_result"
    }
   ],
   "source": [
    "%%time\n",
    "ada.fit(x_train_s,y_train_resampled)"
   ]
  },
  {
   "cell_type": "code",
   "execution_count": 75,
   "metadata": {},
   "outputs": [
    {
     "name": "stdout",
     "output_type": "stream",
     "text": [
      "\n",
      "Accuracy in test  set: 0.5704\n",
      "\n",
      "                                                           precision    recall  f1-score   support\n",
      "\n",
      "                                                     Acne    0.93908   0.66409   0.77800      5037\n",
      "                                                  Anxious    0.36116   0.82291   0.50200      5037\n",
      "                                                   Asthma    0.78758   0.66468   0.72093      5037\n",
      "            Attention Deficit Disorder with Hyperactivity    0.65415   0.72285   0.68679      5037\n",
      "                                       Bipolar Depression    0.57697   0.52829   0.55156      5037\n",
      "                                            Birth Control    0.73815   0.75720   0.74755      5037\n",
      "                                             Chronic Pain    0.50619   0.60075   0.54943      5037\n",
      "                                 Chronic Trouble Sleeping    0.63586   0.66111   0.64824      5037\n",
      "                                                    Cough    0.94516   0.71848   0.81638      5037\n",
      "                                               Depression    0.44471   0.36966   0.40373      5037\n",
      "Disorder characterized by Stiff, Tender & Painful Muscles    0.40450   0.50367   0.44867      5037\n",
      "                                      High Blood Pressure    0.53068   0.49454   0.51197      5037\n",
      "                                         High Cholesterol    0.89549   0.57157   0.69777      5037\n",
      "           Joint Damage causing Pain and Loss of Function    0.48113   0.32897   0.39076      5037\n",
      "                                Major Depressive Disorder    0.45877   0.67818   0.54730      5037\n",
      "                                        Migraine Headache    0.73119   0.59619   0.65682      5037\n",
      "                                      Migraine Prevention    0.75765   0.66349   0.70745      5037\n",
      "                                         Neuropathic Pain    0.54220   0.43359   0.48185      5037\n",
      "                                               Overweight    0.63598   0.78320   0.70196      5037\n",
      "                                                     Pain    0.30276   0.50784   0.37936      5037\n",
      "                                           Panic Disorder    0.78990   0.27318   0.40596      5037\n",
      "                             Repeated Episodes of Anxiety    0.52314   0.29402   0.37646      5037\n",
      "                                     Rheumatoid Arthritis    0.51974   0.41553   0.46183      5037\n",
      "                                 Type 2 Diabetes Mellitus    0.44631   0.79134   0.57073      5037\n",
      "                                      Underactive Thyroid    0.92253   0.41374   0.57127      5037\n",
      "\n",
      "                                                 accuracy                        0.57036    125925\n",
      "                                                macro avg    0.62124   0.57036   0.57259    125925\n",
      "                                             weighted avg    0.62124   0.57036   0.57259    125925\n",
      "\n",
      "0.572590686989205\n",
      "0.5703633114949375\n",
      "0.6212385716510584\n"
     ]
    }
   ],
   "source": [
    "\n",
    "predictions_ada = ada.predict(x_test_s)\n",
    "acc_test = accuracy_score(y_test_resampled, predictions_ada)\n",
    "print(f\"\\nAccuracy in test  set: {acc_test:.4}\\n\")\n",
    "print(classification_report(y_test_resampled, predictions_ada, digits = 5))\n",
    "print(f1_score(y_test_resampled,predictions_ada,average = 'weighted'))\n",
    "print(recall_score(y_test_resampled,predictions_ada,average = 'weighted'))\n",
    "print(precision_score(y_test_resampled,predictions_ada,average = 'weighted'))"
   ]
  },
  {
   "cell_type": "markdown",
   "metadata": {},
   "source": [
    "# report after balancing how many examples classified\n"
   ]
  },
  {
   "cell_type": "code",
   "execution_count": 76,
   "metadata": {},
   "outputs": [
    {
     "name": "stdout",
     "output_type": "stream",
     "text": [
      "Requirement already satisfied: lightgbm in c:\\users\\naman bhoj\\anaconda3\\lib\\site-packages (3.2.0)\n",
      "Requirement already satisfied: scikit-learn!=0.22.0 in c:\\users\\naman bhoj\\anaconda3\\lib\\site-packages (from lightgbm) (0.24.1)\n",
      "Requirement already satisfied: wheel in c:\\users\\naman bhoj\\anaconda3\\lib\\site-packages (from lightgbm) (0.36.2)\n",
      "Requirement already satisfied: scipy in c:\\users\\naman bhoj\\anaconda3\\lib\\site-packages (from lightgbm) (1.5.0)\n",
      "Requirement already satisfied: numpy in c:\\users\\naman bhoj\\anaconda3\\lib\\site-packages (from lightgbm) (1.19.5)\n",
      "Requirement already satisfied: joblib>=0.11 in c:\\users\\naman bhoj\\anaconda3\\lib\\site-packages (from scikit-learn!=0.22.0->lightgbm) (0.16.0)\n",
      "Requirement already satisfied: threadpoolctl>=2.0.0 in c:\\users\\naman bhoj\\anaconda3\\lib\\site-packages (from scikit-learn!=0.22.0->lightgbm) (2.1.0)\n"
     ]
    }
   ],
   "source": [
    "!pip install lightgbm"
   ]
  },
  {
   "cell_type": "code",
   "execution_count": 77,
   "metadata": {},
   "outputs": [],
   "source": [
    "from lightgbm import LGBMClassifier"
   ]
  },
  {
   "cell_type": "code",
   "execution_count": 78,
   "metadata": {},
   "outputs": [],
   "source": [
    "lgbm = LGBMClassifier(n_estimators = 150, learning_rate = 0.5)"
   ]
  },
  {
   "cell_type": "code",
   "execution_count": 79,
   "metadata": {},
   "outputs": [
    {
     "name": "stdout",
     "output_type": "stream",
     "text": [
      "Wall time: 5min 30s\n"
     ]
    },
    {
     "data": {
      "text/plain": [
       "LGBMClassifier(learning_rate=0.5, n_estimators=150)"
      ]
     },
     "execution_count": 79,
     "metadata": {},
     "output_type": "execute_result"
    }
   ],
   "source": [
    "%%time\n",
    "lgbm.fit(x_train_s,y_train_resampled)"
   ]
  },
  {
   "cell_type": "code",
   "execution_count": 80,
   "metadata": {},
   "outputs": [
    {
     "name": "stdout",
     "output_type": "stream",
     "text": [
      "\n",
      "Accuracy in test  set: 0.04412\n",
      "\n"
     ]
    },
    {
     "name": "stderr",
     "output_type": "stream",
     "text": [
      "C:\\Users\\Naman Bhoj\\Anaconda3\\lib\\site-packages\\sklearn\\metrics\\_classification.py:1245: UndefinedMetricWarning: Precision and F-score are ill-defined and being set to 0.0 in labels with no predicted samples. Use `zero_division` parameter to control this behavior.\n",
      "  _warn_prf(average, modifier, msg_start, len(result))\n",
      "C:\\Users\\Naman Bhoj\\Anaconda3\\lib\\site-packages\\sklearn\\metrics\\_classification.py:1245: UndefinedMetricWarning: Precision and F-score are ill-defined and being set to 0.0 in labels with no predicted samples. Use `zero_division` parameter to control this behavior.\n",
      "  _warn_prf(average, modifier, msg_start, len(result))\n",
      "C:\\Users\\Naman Bhoj\\Anaconda3\\lib\\site-packages\\sklearn\\metrics\\_classification.py:1245: UndefinedMetricWarning: Precision and F-score are ill-defined and being set to 0.0 in labels with no predicted samples. Use `zero_division` parameter to control this behavior.\n",
      "  _warn_prf(average, modifier, msg_start, len(result))\n"
     ]
    },
    {
     "name": "stdout",
     "output_type": "stream",
     "text": [
      "                                                           precision    recall  f1-score   support\n",
      "\n",
      "                                                     Acne    0.85965   0.00973   0.01924      5037\n",
      "                                                  Anxious    0.00214   0.00040   0.00067      5037\n",
      "                                                   Asthma    0.00000   0.00000   0.00000      5037\n",
      "            Attention Deficit Disorder with Hyperactivity    0.00000   0.00000   0.00000      5037\n",
      "                                       Bipolar Depression    0.00000   0.00000   0.00000      5037\n",
      "                                            Birth Control    1.00000   0.00060   0.00119      5037\n",
      "                                             Chronic Pain    0.18182   0.00079   0.00158      5037\n",
      "                                 Chronic Trouble Sleeping    0.00000   0.00000   0.00000      5037\n",
      "                                                    Cough    0.91892   0.02700   0.05246      5037\n",
      "                                               Depression    0.00000   0.00000   0.00000      5037\n",
      "Disorder characterized by Stiff, Tender & Painful Muscles    0.00000   0.00000   0.00000      5037\n",
      "                                      High Blood Pressure    0.00000   0.00000   0.00000      5037\n",
      "                                         High Cholesterol    0.08571   0.00060   0.00118      5037\n",
      "           Joint Damage causing Pain and Loss of Function    0.03909   0.42386   0.07157      5037\n",
      "                                Major Depressive Disorder    0.00000   0.00000   0.00000      5037\n",
      "                                        Migraine Headache    0.03276   0.08100   0.04665      5037\n",
      "                                      Migraine Prevention    0.03168   0.34405   0.05802      5037\n",
      "                                         Neuropathic Pain    0.43750   0.00139   0.00277      5037\n",
      "                                               Overweight    1.00000   0.00079   0.00159      5037\n",
      "                                                     Pain    0.50615   0.04904   0.08941      5037\n",
      "                                           Panic Disorder    0.33025   0.13460   0.19126      5037\n",
      "                             Repeated Episodes of Anxiety    0.03419   0.00079   0.00155      5037\n",
      "                                     Rheumatoid Arthritis    0.78736   0.02720   0.05258      5037\n",
      "                                 Type 2 Diabetes Mellitus    0.00000   0.00000   0.00000      5037\n",
      "                                      Underactive Thyroid    0.06667   0.00119   0.00234      5037\n",
      "\n",
      "                                                 accuracy                        0.04412    125925\n",
      "                                                macro avg    0.25255   0.04412   0.02376    125925\n",
      "                                             weighted avg    0.25255   0.04412   0.02376    125925\n",
      "\n",
      "0.02376262822702716\n",
      "0.04412150089338892\n",
      "0.25255495004732487\n"
     ]
    },
    {
     "name": "stderr",
     "output_type": "stream",
     "text": [
      "C:\\Users\\Naman Bhoj\\Anaconda3\\lib\\site-packages\\sklearn\\metrics\\_classification.py:1245: UndefinedMetricWarning: Precision is ill-defined and being set to 0.0 in labels with no predicted samples. Use `zero_division` parameter to control this behavior.\n",
      "  _warn_prf(average, modifier, msg_start, len(result))\n"
     ]
    }
   ],
   "source": [
    "\n",
    "predictions_lgbm = lgbm.predict(x_test_s)\n",
    "acc_test = accuracy_score(y_test_resampled, predictions_lgbm)\n",
    "print(f\"\\nAccuracy in test  set: {acc_test:.4}\\n\")\n",
    "print(classification_report(y_test_resampled, predictions_lgbm, digits = 5))\n",
    "print(f1_score(y_test_resampled,predictions_lgbm,average = 'weighted'))\n",
    "print(recall_score(y_test_resampled,predictions_lgbm,average = 'weighted'))\n",
    "print(precision_score(y_test_resampled,predictions_lgbm,average = 'weighted'))"
   ]
  },
  {
   "cell_type": "code",
   "execution_count": 81,
   "metadata": {},
   "outputs": [],
   "source": [
    "from sklearn.ensemble import RandomForestClassifier\n",
    "\n"
   ]
  },
  {
   "cell_type": "code",
   "execution_count": 82,
   "metadata": {},
   "outputs": [],
   "source": [
    "rf = RandomForestClassifier(n_estimators = 200)"
   ]
  },
  {
   "cell_type": "code",
   "execution_count": 83,
   "metadata": {},
   "outputs": [
    {
     "name": "stdout",
     "output_type": "stream",
     "text": [
      "Wall time: 24min 12s\n"
     ]
    },
    {
     "data": {
      "text/plain": [
       "RandomForestClassifier(n_estimators=200)"
      ]
     },
     "execution_count": 83,
     "metadata": {},
     "output_type": "execute_result"
    }
   ],
   "source": [
    "%%time\n",
    "rf.fit(x_train_s,y_train_resampled)"
   ]
  },
  {
   "cell_type": "code",
   "execution_count": 84,
   "metadata": {},
   "outputs": [
    {
     "name": "stdout",
     "output_type": "stream",
     "text": [
      "\n",
      "Accuracy in test  set: 0.8039\n",
      "\n",
      "                                                           precision    recall  f1-score   support\n",
      "\n",
      "                                                     Acne    0.92887   0.78559   0.85124      5037\n",
      "                                                  Anxious    0.88542   0.82688   0.85515      5037\n",
      "                                                   Asthma    0.92586   0.82807   0.87424      5037\n",
      "            Attention Deficit Disorder with Hyperactivity    0.86670   0.90490   0.88539      5037\n",
      "                                       Bipolar Depression    0.86340   0.66885   0.75378      5037\n",
      "                                            Birth Control    0.73271   0.93826   0.82284      5037\n",
      "                                             Chronic Pain    0.89727   0.73695   0.80924      5037\n",
      "                                 Chronic Trouble Sleeping    0.73385   0.90431   0.81021      5037\n",
      "                                                    Cough    0.92815   0.90530   0.91658      5037\n",
      "                                               Depression    0.55773   0.70776   0.62385      5037\n",
      "Disorder characterized by Stiff, Tender & Painful Muscles    0.77128   0.73576   0.75310      5037\n",
      "                                      High Blood Pressure    0.66172   0.85011   0.74418      5037\n",
      "                                         High Cholesterol    0.87005   0.79889   0.83295      5037\n",
      "           Joint Damage causing Pain and Loss of Function    0.83240   0.64681   0.72796      5037\n",
      "                                Major Depressive Disorder    0.69500   0.68493   0.68993      5037\n",
      "                                        Migraine Headache    0.87505   0.87036   0.87270      5037\n",
      "                                      Migraine Prevention    0.92165   0.91781   0.91973      5037\n",
      "                                         Neuropathic Pain    0.78169   0.77983   0.78076      5037\n",
      "                                               Overweight    0.91410   0.91900   0.91654      5037\n",
      "                                                     Pain    0.65716   0.86500   0.74689      5037\n",
      "                                           Panic Disorder    0.75372   0.78499   0.76904      5037\n",
      "                             Repeated Episodes of Anxiety    0.74194   0.58050   0.65137      5037\n",
      "                                     Rheumatoid Arthritis    0.76485   0.68771   0.72423      5037\n",
      "                                 Type 2 Diabetes Mellitus    0.84394   0.89220   0.86740      5037\n",
      "                                      Underactive Thyroid    0.95336   0.87651   0.91332      5037\n",
      "\n",
      "                                                 accuracy                        0.80389    125925\n",
      "                                                macro avg    0.81432   0.80389   0.80451    125925\n",
      "                                             weighted avg    0.81432   0.80389   0.80451    125925\n",
      "\n",
      "0.8045053763833303\n",
      "0.8038912050823903\n",
      "0.814315604751183\n"
     ]
    }
   ],
   "source": [
    "\n",
    "predictions_rf = rf.predict(x_test_s)\n",
    "acc_test = accuracy_score(y_test_resampled, predictions_rf)\n",
    "print(f\"\\nAccuracy in test  set: {acc_test:.4}\\n\")\n",
    "print(classification_report(y_test_resampled, predictions_rf, digits = 5))\n",
    "print(f1_score(y_test_resampled,predictions_rf,average = 'weighted'))\n",
    "print(recall_score(y_test_resampled,predictions_rf,average = 'weighted'))\n",
    "print(precision_score(y_test_resampled,predictions_rf,average = 'weighted'))"
   ]
  },
  {
   "cell_type": "code",
   "execution_count": 92,
   "metadata": {},
   "outputs": [],
   "source": [
    "#report precision, recall and f1-score"
   ]
  },
  {
   "cell_type": "code",
   "execution_count": null,
   "metadata": {},
   "outputs": [],
   "source": []
  }
 ],
 "metadata": {
  "kernelspec": {
   "display_name": "Python 3",
   "language": "python",
   "name": "python3"
  },
  "language_info": {
   "codemirror_mode": {
    "name": "ipython",
    "version": 3
   },
   "file_extension": ".py",
   "mimetype": "text/x-python",
   "name": "python",
   "nbconvert_exporter": "python",
   "pygments_lexer": "ipython3",
   "version": "3.8.3"
  }
 },
 "nbformat": 4,
 "nbformat_minor": 4
}
